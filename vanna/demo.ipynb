{
 "cells": [
  {
   "cell_type": "code",
   "execution_count": 38,
   "metadata": {},
   "outputs": [],
   "source": [
    "# -*- coding: utf-8 -*-\n",
    "import random\n",
    "import os\n",
    "from dashscope import Generation\n",
    "from torch import seed\n",
    "from vanna.base import VannaBase\n",
    "import random \n",
    "\n",
    "DEBUG_INFO=None\n",
    "\n",
    "class QwenLLM(VannaBase):\n",
    "  def __init__(self,config=None):\n",
    "    self.model=config['model']\n",
    "    self.api_key=config['api_key']\n",
    "  \n",
    "  def system_message(self,message: str):\n",
    "    return {'role':'system','content':message}\n",
    "\n",
    "  def user_message(self, message: str):\n",
    "    return {'role':'user','content':message}\n",
    "\n",
    "  def assistant_message(self, message: str):\n",
    "    return {'role':'assistant','content':message}\n",
    "  \n",
    "  def submit_prompt(self,prompt,**kwargs):\n",
    "    resp=Generation.call(\n",
    "      model=self.model,\n",
    "      messages=prompt,\n",
    "      seed=random.randint(1, 10000),\n",
    "      result_format='message',\n",
    "      api_key=self.api_key)\n",
    "    answer=resp.output.choices[0].message.content\n",
    "    global DEBUG_INFO\n",
    "    DEBUG_INFO=(prompt,answer)\n",
    "    return answer\n",
    "\n",
    "\n"
   ]
  },
  {
   "cell_type": "code",
   "execution_count": 39,
   "metadata": {},
   "outputs": [],
   "source": [
    "from vanna.chromadb import ChromaDB_VectorStore\n",
    "class MyVanna(ChromaDB_VectorStore,QwenLLM):\n",
    "    def __init__(self, config=None):\n",
    "        ChromaDB_VectorStore.__init__(self,config=config)\n",
    "        QwenLLM.__init__(self,config=config)"
   ]
  },
  {
   "cell_type": "code",
   "execution_count": 40,
   "metadata": {},
   "outputs": [
    {
     "name": "stdout",
     "output_type": "stream",
     "text": [
      "model: None\n"
     ]
    }
   ],
   "source": [
    "vn=MyVanna({'api_key':'sk-252e6b83b1e6490f945bd740cf8c7cee','model':'qwen-max'})\n",
    "print('model:',os.getenv('model'))"
   ]
  },
  {
   "cell_type": "code",
   "execution_count": 41,
   "metadata": {},
   "outputs": [],
   "source": [
    "vn.connect_to_postgres(host='localhost',dbname='databasetest',user='postgres',password='123456',port=5432) # connect to postgres"
   ]
  },
  {
   "cell_type": "code",
   "execution_count": 42,
   "metadata": {},
   "outputs": [],
   "source": [
    "DDL='''CREATE TABLE IF NOT EXISTS users (\n",
    "    id INT PRIMARY KEY,\n",
    "    name VARCHAR(100),\n",
    "    age INT\n",
    ");\n",
    "\n",
    "-- 添加表注释\n",
    "COMMENT ON TABLE users is\n",
    " '用户信息表';\n",
    "\n",
    "-- 添加字段注释\n",
    "COMMENT ON COLUMN users.id IS '用户ID';\n",
    "COMMENT ON COLUMN users.name IS '姓名';\n",
    "COMMENT ON COLUMN users.age IS '年龄';\n",
    "\n",
    "'''\n"
   ]
  },
  {
   "cell_type": "code",
   "execution_count": 43,
   "metadata": {},
   "outputs": [
    {
     "name": "stdout",
     "output_type": "stream",
     "text": [
      "Adding ddl: CREATE TABLE IF NOT EXISTS users (\n",
      "    id INT PRIMARY KEY,\n",
      "    name VARCHAR(100),\n",
      "    age INT\n",
      ");\n",
      "\n",
      "-- 添加表注释\n",
      "COMMENT ON TABLE users is\n",
      " '用户信息表';\n",
      "\n",
      "-- 添加字段注释\n",
      "COMMENT ON COLUMN users.id IS '用户ID';\n",
      "COMMENT ON COLUMN users.name IS '姓名';\n",
      "COMMENT ON COLUMN users.age IS '年龄';\n",
      "\n",
      "\n"
     ]
    },
    {
     "data": {
      "text/plain": [
       "'54cc1ab3-6dbb-54d1-bbd3-675304c87f9b-ddl'"
      ]
     },
     "execution_count": 43,
     "metadata": {},
     "output_type": "execute_result"
    }
   ],
   "source": [
    "vn.train(ddl=DDL)"
   ]
  },
  {
   "cell_type": "code",
   "execution_count": 44,
   "metadata": {},
   "outputs": [
    {
     "name": "stdout",
     "output_type": "stream",
     "text": [
      "Adding documentation....\n"
     ]
    },
    {
     "data": {
      "text/plain": [
       "'8fc54ebe-8bb3-5fb7-88a6-5c98d817ed07-doc'"
      ]
     },
     "execution_count": 44,
     "metadata": {},
     "output_type": "execute_result"
    }
   ],
   "source": [
    "vn.train(documentation='\"福报\"是指age>=35岁，也就是可以向社会输送的人才')"
   ]
  },
  {
   "cell_type": "code",
   "execution_count": 45,
   "metadata": {},
   "outputs": [
    {
     "ename": "ConnectionError",
     "evalue": "HTTPSConnectionPool(host='dashscope.aliyuncs.com', port=443): Max retries exceeded with url: /api/v1/services/aigc/text-generation/generation (Caused by NewConnectionError('<urllib3.connection.HTTPSConnection object at 0x0000022EDBA34390>: Failed to establish a new connection: [Errno 11001] getaddrinfo failed'))",
     "output_type": "error",
     "traceback": [
      "\u001b[1;31m---------------------------------------------------------------------------\u001b[0m",
      "\u001b[1;31mgaierror\u001b[0m                                  Traceback (most recent call last)",
      "File \u001b[1;32md:\\anaconda3\\Lib\\site-packages\\urllib3\\connection.py:174\u001b[0m, in \u001b[0;36mHTTPConnection._new_conn\u001b[1;34m(self)\u001b[0m\n\u001b[0;32m    173\u001b[0m \u001b[38;5;28;01mtry\u001b[39;00m:\n\u001b[1;32m--> 174\u001b[0m     conn \u001b[38;5;241m=\u001b[39m connection\u001b[38;5;241m.\u001b[39mcreate_connection(\n\u001b[0;32m    175\u001b[0m         (\u001b[38;5;28mself\u001b[39m\u001b[38;5;241m.\u001b[39m_dns_host, \u001b[38;5;28mself\u001b[39m\u001b[38;5;241m.\u001b[39mport), \u001b[38;5;28mself\u001b[39m\u001b[38;5;241m.\u001b[39mtimeout, \u001b[38;5;241m*\u001b[39m\u001b[38;5;241m*\u001b[39mextra_kw\n\u001b[0;32m    176\u001b[0m     )\n\u001b[0;32m    178\u001b[0m \u001b[38;5;28;01mexcept\u001b[39;00m SocketTimeout:\n",
      "File \u001b[1;32md:\\anaconda3\\Lib\\site-packages\\urllib3\\util\\connection.py:72\u001b[0m, in \u001b[0;36mcreate_connection\u001b[1;34m(address, timeout, source_address, socket_options)\u001b[0m\n\u001b[0;32m     68\u001b[0m     \u001b[38;5;28;01mreturn\u001b[39;00m six\u001b[38;5;241m.\u001b[39mraise_from(\n\u001b[0;32m     69\u001b[0m         LocationParseError(\u001b[38;5;124mu\u001b[39m\u001b[38;5;124m\"\u001b[39m\u001b[38;5;124m'\u001b[39m\u001b[38;5;132;01m%s\u001b[39;00m\u001b[38;5;124m'\u001b[39m\u001b[38;5;124m, label empty or too long\u001b[39m\u001b[38;5;124m\"\u001b[39m \u001b[38;5;241m%\u001b[39m host), \u001b[38;5;28;01mNone\u001b[39;00m\n\u001b[0;32m     70\u001b[0m     )\n\u001b[1;32m---> 72\u001b[0m \u001b[38;5;28;01mfor\u001b[39;00m res \u001b[38;5;129;01min\u001b[39;00m socket\u001b[38;5;241m.\u001b[39mgetaddrinfo(host, port, family, socket\u001b[38;5;241m.\u001b[39mSOCK_STREAM):\n\u001b[0;32m     73\u001b[0m     af, socktype, proto, canonname, sa \u001b[38;5;241m=\u001b[39m res\n",
      "File \u001b[1;32md:\\anaconda3\\Lib\\socket.py:962\u001b[0m, in \u001b[0;36mgetaddrinfo\u001b[1;34m(host, port, family, type, proto, flags)\u001b[0m\n\u001b[0;32m    961\u001b[0m addrlist \u001b[38;5;241m=\u001b[39m []\n\u001b[1;32m--> 962\u001b[0m \u001b[38;5;28;01mfor\u001b[39;00m res \u001b[38;5;129;01min\u001b[39;00m _socket\u001b[38;5;241m.\u001b[39mgetaddrinfo(host, port, family, \u001b[38;5;28mtype\u001b[39m, proto, flags):\n\u001b[0;32m    963\u001b[0m     af, socktype, proto, canonname, sa \u001b[38;5;241m=\u001b[39m res\n",
      "\u001b[1;31mgaierror\u001b[0m: [Errno 11001] getaddrinfo failed",
      "\nDuring handling of the above exception, another exception occurred:\n",
      "\u001b[1;31mNewConnectionError\u001b[0m                        Traceback (most recent call last)",
      "File \u001b[1;32md:\\anaconda3\\Lib\\site-packages\\urllib3\\connectionpool.py:715\u001b[0m, in \u001b[0;36mHTTPConnectionPool.urlopen\u001b[1;34m(self, method, url, body, headers, retries, redirect, assert_same_host, timeout, pool_timeout, release_conn, chunked, body_pos, **response_kw)\u001b[0m\n\u001b[0;32m    714\u001b[0m \u001b[38;5;66;03m# Make the request on the httplib connection object.\u001b[39;00m\n\u001b[1;32m--> 715\u001b[0m httplib_response \u001b[38;5;241m=\u001b[39m \u001b[38;5;28mself\u001b[39m\u001b[38;5;241m.\u001b[39m_make_request(\n\u001b[0;32m    716\u001b[0m     conn,\n\u001b[0;32m    717\u001b[0m     method,\n\u001b[0;32m    718\u001b[0m     url,\n\u001b[0;32m    719\u001b[0m     timeout\u001b[38;5;241m=\u001b[39mtimeout_obj,\n\u001b[0;32m    720\u001b[0m     body\u001b[38;5;241m=\u001b[39mbody,\n\u001b[0;32m    721\u001b[0m     headers\u001b[38;5;241m=\u001b[39mheaders,\n\u001b[0;32m    722\u001b[0m     chunked\u001b[38;5;241m=\u001b[39mchunked,\n\u001b[0;32m    723\u001b[0m )\n\u001b[0;32m    725\u001b[0m \u001b[38;5;66;03m# If we're going to release the connection in ``finally:``, then\u001b[39;00m\n\u001b[0;32m    726\u001b[0m \u001b[38;5;66;03m# the response doesn't need to know about the connection. Otherwise\u001b[39;00m\n\u001b[0;32m    727\u001b[0m \u001b[38;5;66;03m# it will also try to release it and we'll have a double-release\u001b[39;00m\n\u001b[0;32m    728\u001b[0m \u001b[38;5;66;03m# mess.\u001b[39;00m\n",
      "File \u001b[1;32md:\\anaconda3\\Lib\\site-packages\\urllib3\\connectionpool.py:404\u001b[0m, in \u001b[0;36mHTTPConnectionPool._make_request\u001b[1;34m(self, conn, method, url, timeout, chunked, **httplib_request_kw)\u001b[0m\n\u001b[0;32m    403\u001b[0m \u001b[38;5;28;01mtry\u001b[39;00m:\n\u001b[1;32m--> 404\u001b[0m     \u001b[38;5;28mself\u001b[39m\u001b[38;5;241m.\u001b[39m_validate_conn(conn)\n\u001b[0;32m    405\u001b[0m \u001b[38;5;28;01mexcept\u001b[39;00m (SocketTimeout, BaseSSLError) \u001b[38;5;28;01mas\u001b[39;00m e:\n\u001b[0;32m    406\u001b[0m     \u001b[38;5;66;03m# Py2 raises this as a BaseSSLError, Py3 raises it as socket timeout.\u001b[39;00m\n",
      "File \u001b[1;32md:\\anaconda3\\Lib\\site-packages\\urllib3\\connectionpool.py:1060\u001b[0m, in \u001b[0;36mHTTPSConnectionPool._validate_conn\u001b[1;34m(self, conn)\u001b[0m\n\u001b[0;32m   1059\u001b[0m \u001b[38;5;28;01mif\u001b[39;00m \u001b[38;5;129;01mnot\u001b[39;00m \u001b[38;5;28mgetattr\u001b[39m(conn, \u001b[38;5;124m\"\u001b[39m\u001b[38;5;124msock\u001b[39m\u001b[38;5;124m\"\u001b[39m, \u001b[38;5;28;01mNone\u001b[39;00m):  \u001b[38;5;66;03m# AppEngine might not have  `.sock`\u001b[39;00m\n\u001b[1;32m-> 1060\u001b[0m     conn\u001b[38;5;241m.\u001b[39mconnect()\n\u001b[0;32m   1062\u001b[0m \u001b[38;5;28;01mif\u001b[39;00m \u001b[38;5;129;01mnot\u001b[39;00m conn\u001b[38;5;241m.\u001b[39mis_verified:\n",
      "File \u001b[1;32md:\\anaconda3\\Lib\\site-packages\\urllib3\\connection.py:363\u001b[0m, in \u001b[0;36mHTTPSConnection.connect\u001b[1;34m(self)\u001b[0m\n\u001b[0;32m    361\u001b[0m \u001b[38;5;28;01mdef\u001b[39;00m \u001b[38;5;21mconnect\u001b[39m(\u001b[38;5;28mself\u001b[39m):\n\u001b[0;32m    362\u001b[0m     \u001b[38;5;66;03m# Add certificate verification\u001b[39;00m\n\u001b[1;32m--> 363\u001b[0m     \u001b[38;5;28mself\u001b[39m\u001b[38;5;241m.\u001b[39msock \u001b[38;5;241m=\u001b[39m conn \u001b[38;5;241m=\u001b[39m \u001b[38;5;28mself\u001b[39m\u001b[38;5;241m.\u001b[39m_new_conn()\n\u001b[0;32m    364\u001b[0m     hostname \u001b[38;5;241m=\u001b[39m \u001b[38;5;28mself\u001b[39m\u001b[38;5;241m.\u001b[39mhost\n",
      "File \u001b[1;32md:\\anaconda3\\Lib\\site-packages\\urllib3\\connection.py:186\u001b[0m, in \u001b[0;36mHTTPConnection._new_conn\u001b[1;34m(self)\u001b[0m\n\u001b[0;32m    185\u001b[0m \u001b[38;5;28;01mexcept\u001b[39;00m SocketError \u001b[38;5;28;01mas\u001b[39;00m e:\n\u001b[1;32m--> 186\u001b[0m     \u001b[38;5;28;01mraise\u001b[39;00m NewConnectionError(\n\u001b[0;32m    187\u001b[0m         \u001b[38;5;28mself\u001b[39m, \u001b[38;5;124m\"\u001b[39m\u001b[38;5;124mFailed to establish a new connection: \u001b[39m\u001b[38;5;132;01m%s\u001b[39;00m\u001b[38;5;124m\"\u001b[39m \u001b[38;5;241m%\u001b[39m e\n\u001b[0;32m    188\u001b[0m     )\n\u001b[0;32m    190\u001b[0m \u001b[38;5;28;01mreturn\u001b[39;00m conn\n",
      "\u001b[1;31mNewConnectionError\u001b[0m: <urllib3.connection.HTTPSConnection object at 0x0000022EDBA34390>: Failed to establish a new connection: [Errno 11001] getaddrinfo failed",
      "\nDuring handling of the above exception, another exception occurred:\n",
      "\u001b[1;31mMaxRetryError\u001b[0m                             Traceback (most recent call last)",
      "File \u001b[1;32md:\\anaconda3\\Lib\\site-packages\\requests\\adapters.py:667\u001b[0m, in \u001b[0;36mHTTPAdapter.send\u001b[1;34m(self, request, stream, timeout, verify, cert, proxies)\u001b[0m\n\u001b[0;32m    666\u001b[0m \u001b[38;5;28;01mtry\u001b[39;00m:\n\u001b[1;32m--> 667\u001b[0m     resp \u001b[38;5;241m=\u001b[39m conn\u001b[38;5;241m.\u001b[39murlopen(\n\u001b[0;32m    668\u001b[0m         method\u001b[38;5;241m=\u001b[39mrequest\u001b[38;5;241m.\u001b[39mmethod,\n\u001b[0;32m    669\u001b[0m         url\u001b[38;5;241m=\u001b[39murl,\n\u001b[0;32m    670\u001b[0m         body\u001b[38;5;241m=\u001b[39mrequest\u001b[38;5;241m.\u001b[39mbody,\n\u001b[0;32m    671\u001b[0m         headers\u001b[38;5;241m=\u001b[39mrequest\u001b[38;5;241m.\u001b[39mheaders,\n\u001b[0;32m    672\u001b[0m         redirect\u001b[38;5;241m=\u001b[39m\u001b[38;5;28;01mFalse\u001b[39;00m,\n\u001b[0;32m    673\u001b[0m         assert_same_host\u001b[38;5;241m=\u001b[39m\u001b[38;5;28;01mFalse\u001b[39;00m,\n\u001b[0;32m    674\u001b[0m         preload_content\u001b[38;5;241m=\u001b[39m\u001b[38;5;28;01mFalse\u001b[39;00m,\n\u001b[0;32m    675\u001b[0m         decode_content\u001b[38;5;241m=\u001b[39m\u001b[38;5;28;01mFalse\u001b[39;00m,\n\u001b[0;32m    676\u001b[0m         retries\u001b[38;5;241m=\u001b[39m\u001b[38;5;28mself\u001b[39m\u001b[38;5;241m.\u001b[39mmax_retries,\n\u001b[0;32m    677\u001b[0m         timeout\u001b[38;5;241m=\u001b[39mtimeout,\n\u001b[0;32m    678\u001b[0m         chunked\u001b[38;5;241m=\u001b[39mchunked,\n\u001b[0;32m    679\u001b[0m     )\n\u001b[0;32m    681\u001b[0m \u001b[38;5;28;01mexcept\u001b[39;00m (ProtocolError, \u001b[38;5;167;01mOSError\u001b[39;00m) \u001b[38;5;28;01mas\u001b[39;00m err:\n",
      "File \u001b[1;32md:\\anaconda3\\Lib\\site-packages\\urllib3\\connectionpool.py:801\u001b[0m, in \u001b[0;36mHTTPConnectionPool.urlopen\u001b[1;34m(self, method, url, body, headers, retries, redirect, assert_same_host, timeout, pool_timeout, release_conn, chunked, body_pos, **response_kw)\u001b[0m\n\u001b[0;32m    799\u001b[0m     e \u001b[38;5;241m=\u001b[39m ProtocolError(\u001b[38;5;124m\"\u001b[39m\u001b[38;5;124mConnection aborted.\u001b[39m\u001b[38;5;124m\"\u001b[39m, e)\n\u001b[1;32m--> 801\u001b[0m retries \u001b[38;5;241m=\u001b[39m retries\u001b[38;5;241m.\u001b[39mincrement(\n\u001b[0;32m    802\u001b[0m     method, url, error\u001b[38;5;241m=\u001b[39me, _pool\u001b[38;5;241m=\u001b[39m\u001b[38;5;28mself\u001b[39m, _stacktrace\u001b[38;5;241m=\u001b[39msys\u001b[38;5;241m.\u001b[39mexc_info()[\u001b[38;5;241m2\u001b[39m]\n\u001b[0;32m    803\u001b[0m )\n\u001b[0;32m    804\u001b[0m retries\u001b[38;5;241m.\u001b[39msleep()\n",
      "File \u001b[1;32md:\\anaconda3\\Lib\\site-packages\\urllib3\\util\\retry.py:594\u001b[0m, in \u001b[0;36mRetry.increment\u001b[1;34m(self, method, url, response, error, _pool, _stacktrace)\u001b[0m\n\u001b[0;32m    593\u001b[0m \u001b[38;5;28;01mif\u001b[39;00m new_retry\u001b[38;5;241m.\u001b[39mis_exhausted():\n\u001b[1;32m--> 594\u001b[0m     \u001b[38;5;28;01mraise\u001b[39;00m MaxRetryError(_pool, url, error \u001b[38;5;129;01mor\u001b[39;00m ResponseError(cause))\n\u001b[0;32m    596\u001b[0m log\u001b[38;5;241m.\u001b[39mdebug(\u001b[38;5;124m\"\u001b[39m\u001b[38;5;124mIncremented Retry for (url=\u001b[39m\u001b[38;5;124m'\u001b[39m\u001b[38;5;132;01m%s\u001b[39;00m\u001b[38;5;124m'\u001b[39m\u001b[38;5;124m): \u001b[39m\u001b[38;5;132;01m%r\u001b[39;00m\u001b[38;5;124m\"\u001b[39m, url, new_retry)\n",
      "\u001b[1;31mMaxRetryError\u001b[0m: HTTPSConnectionPool(host='dashscope.aliyuncs.com', port=443): Max retries exceeded with url: /api/v1/services/aigc/text-generation/generation (Caused by NewConnectionError('<urllib3.connection.HTTPSConnection object at 0x0000022EDBA34390>: Failed to establish a new connection: [Errno 11001] getaddrinfo failed'))",
      "\nDuring handling of the above exception, another exception occurred:\n",
      "\u001b[1;31mConnectionError\u001b[0m                           Traceback (most recent call last)",
      "Cell \u001b[1;32mIn[45], line 10\u001b[0m\n\u001b[0;32m      1\u001b[0m \u001b[38;5;124;03m'''\u001b[39;00m\n\u001b[0;32m      2\u001b[0m \u001b[38;5;124;03m1，通过LLM根据SQL构造一个question\u001b[39;00m\n\u001b[0;32m      3\u001b[0m \u001b[38;5;124;03m2，按question-SQL的JSON入库\u001b[39;00m\n\u001b[1;32m   (...)\u001b[0m\n\u001b[0;32m      7\u001b[0m \u001b[38;5;124;03m            }\u001b[39;00m\n\u001b[0;32m      8\u001b[0m \u001b[38;5;124;03m'''\u001b[39;00m\n\u001b[1;32m---> 10\u001b[0m vn\u001b[38;5;241m.\u001b[39mtrain(sql\u001b[38;5;241m=\u001b[39m\u001b[38;5;124m'\u001b[39m\u001b[38;5;124mselect name from users where age between 10 and 50\u001b[39m\u001b[38;5;124m'\u001b[39m)\n",
      "File \u001b[1;32md:\\anaconda3\\Lib\\site-packages\\vanna\\base\\base.py:1817\u001b[0m, in \u001b[0;36mVannaBase.train\u001b[1;34m(self, question, sql, ddl, documentation, plan)\u001b[0m\n\u001b[0;32m   1815\u001b[0m \u001b[38;5;28;01mif\u001b[39;00m sql:\n\u001b[0;32m   1816\u001b[0m     \u001b[38;5;28;01mif\u001b[39;00m question \u001b[38;5;129;01mis\u001b[39;00m \u001b[38;5;28;01mNone\u001b[39;00m:\n\u001b[1;32m-> 1817\u001b[0m         question \u001b[38;5;241m=\u001b[39m \u001b[38;5;28mself\u001b[39m\u001b[38;5;241m.\u001b[39mgenerate_question(sql)\n\u001b[0;32m   1818\u001b[0m         \u001b[38;5;28mprint\u001b[39m(\u001b[38;5;124m\"\u001b[39m\u001b[38;5;124mQuestion generated with sql:\u001b[39m\u001b[38;5;124m\"\u001b[39m, question, \u001b[38;5;124m\"\u001b[39m\u001b[38;5;130;01m\\n\u001b[39;00m\u001b[38;5;124mAdding SQL...\u001b[39m\u001b[38;5;124m\"\u001b[39m)\n\u001b[0;32m   1819\u001b[0m     \u001b[38;5;28;01mreturn\u001b[39;00m \u001b[38;5;28mself\u001b[39m\u001b[38;5;241m.\u001b[39madd_question_sql(question\u001b[38;5;241m=\u001b[39mquestion, sql\u001b[38;5;241m=\u001b[39msql)\n",
      "File \u001b[1;32md:\\anaconda3\\Lib\\site-packages\\vanna\\base\\base.py:679\u001b[0m, in \u001b[0;36mVannaBase.generate_question\u001b[1;34m(self, sql, **kwargs)\u001b[0m\n\u001b[0;32m    678\u001b[0m \u001b[38;5;28;01mdef\u001b[39;00m \u001b[38;5;21mgenerate_question\u001b[39m(\u001b[38;5;28mself\u001b[39m, sql: \u001b[38;5;28mstr\u001b[39m, \u001b[38;5;241m*\u001b[39m\u001b[38;5;241m*\u001b[39mkwargs) \u001b[38;5;241m-\u001b[39m\u001b[38;5;241m>\u001b[39m \u001b[38;5;28mstr\u001b[39m:\n\u001b[1;32m--> 679\u001b[0m     response \u001b[38;5;241m=\u001b[39m \u001b[38;5;28mself\u001b[39m\u001b[38;5;241m.\u001b[39msubmit_prompt(\n\u001b[0;32m    680\u001b[0m         [\n\u001b[0;32m    681\u001b[0m             \u001b[38;5;28mself\u001b[39m\u001b[38;5;241m.\u001b[39msystem_message(\n\u001b[0;32m    682\u001b[0m                 \u001b[38;5;124m\"\u001b[39m\u001b[38;5;124mThe user will give you SQL and you will try to guess what the business question this query is answering. Return just the question without any additional explanation. Do not reference the table name in the question.\u001b[39m\u001b[38;5;124m\"\u001b[39m\n\u001b[0;32m    683\u001b[0m             ),\n\u001b[0;32m    684\u001b[0m             \u001b[38;5;28mself\u001b[39m\u001b[38;5;241m.\u001b[39muser_message(sql),\n\u001b[0;32m    685\u001b[0m         ],\n\u001b[0;32m    686\u001b[0m         \u001b[38;5;241m*\u001b[39m\u001b[38;5;241m*\u001b[39mkwargs,\n\u001b[0;32m    687\u001b[0m     )\n\u001b[0;32m    689\u001b[0m     \u001b[38;5;28;01mreturn\u001b[39;00m response\n",
      "Cell \u001b[1;32mIn[38], line 26\u001b[0m, in \u001b[0;36mQwenLLM.submit_prompt\u001b[1;34m(self, prompt, **kwargs)\u001b[0m\n\u001b[0;32m     25\u001b[0m \u001b[38;5;28;01mdef\u001b[39;00m \u001b[38;5;21msubmit_prompt\u001b[39m(\u001b[38;5;28mself\u001b[39m,prompt,\u001b[38;5;241m*\u001b[39m\u001b[38;5;241m*\u001b[39mkwargs):\n\u001b[1;32m---> 26\u001b[0m   resp\u001b[38;5;241m=\u001b[39mGeneration\u001b[38;5;241m.\u001b[39mcall(\n\u001b[0;32m     27\u001b[0m     model\u001b[38;5;241m=\u001b[39m\u001b[38;5;28mself\u001b[39m\u001b[38;5;241m.\u001b[39mmodel,\n\u001b[0;32m     28\u001b[0m     messages\u001b[38;5;241m=\u001b[39mprompt,\n\u001b[0;32m     29\u001b[0m     seed\u001b[38;5;241m=\u001b[39mrandom\u001b[38;5;241m.\u001b[39mrandint(\u001b[38;5;241m1\u001b[39m, \u001b[38;5;241m10000\u001b[39m),\n\u001b[0;32m     30\u001b[0m     result_format\u001b[38;5;241m=\u001b[39m\u001b[38;5;124m'\u001b[39m\u001b[38;5;124mmessage\u001b[39m\u001b[38;5;124m'\u001b[39m,\n\u001b[0;32m     31\u001b[0m     api_key\u001b[38;5;241m=\u001b[39m\u001b[38;5;28mself\u001b[39m\u001b[38;5;241m.\u001b[39mapi_key)\n\u001b[0;32m     32\u001b[0m   answer\u001b[38;5;241m=\u001b[39mresp\u001b[38;5;241m.\u001b[39moutput\u001b[38;5;241m.\u001b[39mchoices[\u001b[38;5;241m0\u001b[39m]\u001b[38;5;241m.\u001b[39mmessage\u001b[38;5;241m.\u001b[39mcontent\n\u001b[0;32m     33\u001b[0m   \u001b[38;5;28;01mglobal\u001b[39;00m DEBUG_INFO\n",
      "File \u001b[1;32md:\\anaconda3\\Lib\\site-packages\\dashscope\\aigc\\generation.py:138\u001b[0m, in \u001b[0;36mGeneration.call\u001b[1;34m(cls, model, prompt, history, api_key, messages, plugins, workspace, **kwargs)\u001b[0m\n\u001b[0;32m    135\u001b[0m     kwargs[\u001b[38;5;124m'\u001b[39m\u001b[38;5;124mheaders\u001b[39m\u001b[38;5;124m'\u001b[39m] \u001b[38;5;241m=\u001b[39m headers\n\u001b[0;32m    136\u001b[0m \u001b[38;5;28minput\u001b[39m, parameters \u001b[38;5;241m=\u001b[39m \u001b[38;5;28mcls\u001b[39m\u001b[38;5;241m.\u001b[39m_build_input_parameters(\n\u001b[0;32m    137\u001b[0m     model, prompt, history, messages, \u001b[38;5;241m*\u001b[39m\u001b[38;5;241m*\u001b[39mkwargs)\n\u001b[1;32m--> 138\u001b[0m response \u001b[38;5;241m=\u001b[39m \u001b[38;5;28msuper\u001b[39m()\u001b[38;5;241m.\u001b[39mcall(model\u001b[38;5;241m=\u001b[39mmodel,\n\u001b[0;32m    139\u001b[0m                         task_group\u001b[38;5;241m=\u001b[39mtask_group,\n\u001b[0;32m    140\u001b[0m                         task\u001b[38;5;241m=\u001b[39mGeneration\u001b[38;5;241m.\u001b[39mtask,\n\u001b[0;32m    141\u001b[0m                         function\u001b[38;5;241m=\u001b[39mfunction,\n\u001b[0;32m    142\u001b[0m                         api_key\u001b[38;5;241m=\u001b[39mapi_key,\n\u001b[0;32m    143\u001b[0m                         \u001b[38;5;28minput\u001b[39m\u001b[38;5;241m=\u001b[39m\u001b[38;5;28minput\u001b[39m,\n\u001b[0;32m    144\u001b[0m                         workspace\u001b[38;5;241m=\u001b[39mworkspace,\n\u001b[0;32m    145\u001b[0m                         \u001b[38;5;241m*\u001b[39m\u001b[38;5;241m*\u001b[39mparameters)\n\u001b[0;32m    146\u001b[0m is_stream \u001b[38;5;241m=\u001b[39m kwargs\u001b[38;5;241m.\u001b[39mget(\u001b[38;5;124m'\u001b[39m\u001b[38;5;124mstream\u001b[39m\u001b[38;5;124m'\u001b[39m, \u001b[38;5;28;01mFalse\u001b[39;00m)\n\u001b[0;32m    147\u001b[0m \u001b[38;5;28;01mif\u001b[39;00m is_stream:\n",
      "File \u001b[1;32md:\\anaconda3\\Lib\\site-packages\\dashscope\\client\\base_api.py:145\u001b[0m, in \u001b[0;36mBaseApi.call\u001b[1;34m(cls, model, input, task_group, task, function, api_key, workspace, **kwargs)\u001b[0m\n\u001b[0;32m    137\u001b[0m request \u001b[38;5;241m=\u001b[39m _build_api_request(model\u001b[38;5;241m=\u001b[39mmodel,\n\u001b[0;32m    138\u001b[0m                              \u001b[38;5;28minput\u001b[39m\u001b[38;5;241m=\u001b[39m\u001b[38;5;28minput\u001b[39m,\n\u001b[0;32m    139\u001b[0m                              task_group\u001b[38;5;241m=\u001b[39mtask_group,\n\u001b[1;32m   (...)\u001b[0m\n\u001b[0;32m    142\u001b[0m                              api_key\u001b[38;5;241m=\u001b[39mapi_key,\n\u001b[0;32m    143\u001b[0m                              \u001b[38;5;241m*\u001b[39m\u001b[38;5;241m*\u001b[39mkwargs)\n\u001b[0;32m    144\u001b[0m \u001b[38;5;66;03m# call request service.\u001b[39;00m\n\u001b[1;32m--> 145\u001b[0m \u001b[38;5;28;01mreturn\u001b[39;00m request\u001b[38;5;241m.\u001b[39mcall()\n",
      "File \u001b[1;32md:\\anaconda3\\Lib\\site-packages\\dashscope\\api_entities\\http_request.py:83\u001b[0m, in \u001b[0;36mHttpRequest.call\u001b[1;34m(self)\u001b[0m\n\u001b[0;32m     81\u001b[0m     \u001b[38;5;28;01mreturn\u001b[39;00m (item \u001b[38;5;28;01mfor\u001b[39;00m item \u001b[38;5;129;01min\u001b[39;00m response)\n\u001b[0;32m     82\u001b[0m \u001b[38;5;28;01melse\u001b[39;00m:\n\u001b[1;32m---> 83\u001b[0m     output \u001b[38;5;241m=\u001b[39m \u001b[38;5;28mnext\u001b[39m(response)\n\u001b[0;32m     84\u001b[0m     \u001b[38;5;28;01mtry\u001b[39;00m:\n\u001b[0;32m     85\u001b[0m         \u001b[38;5;28mnext\u001b[39m(response)\n",
      "File \u001b[1;32md:\\anaconda3\\Lib\\site-packages\\dashscope\\api_entities\\http_request.py:302\u001b[0m, in \u001b[0;36mHttpRequest._handle_request\u001b[1;34m(self)\u001b[0m\n\u001b[0;32m    300\u001b[0m \u001b[38;5;28;01mexcept\u001b[39;00m \u001b[38;5;167;01mBaseException\u001b[39;00m \u001b[38;5;28;01mas\u001b[39;00m e:\n\u001b[0;32m    301\u001b[0m     logger\u001b[38;5;241m.\u001b[39merror(e)\n\u001b[1;32m--> 302\u001b[0m     \u001b[38;5;28;01mraise\u001b[39;00m e\n",
      "File \u001b[1;32md:\\anaconda3\\Lib\\site-packages\\dashscope\\api_entities\\http_request.py:285\u001b[0m, in \u001b[0;36mHttpRequest._handle_request\u001b[1;34m(self)\u001b[0m\n\u001b[0;32m    283\u001b[0m     \u001b[38;5;28;01melse\u001b[39;00m:\n\u001b[0;32m    284\u001b[0m         logger\u001b[38;5;241m.\u001b[39mdebug(\u001b[38;5;124m'\u001b[39m\u001b[38;5;124mRequest body: \u001b[39m\u001b[38;5;132;01m%s\u001b[39;00m\u001b[38;5;124m'\u001b[39m \u001b[38;5;241m%\u001b[39m obj)\n\u001b[1;32m--> 285\u001b[0m         response \u001b[38;5;241m=\u001b[39m session\u001b[38;5;241m.\u001b[39mpost(url\u001b[38;5;241m=\u001b[39m\u001b[38;5;28mself\u001b[39m\u001b[38;5;241m.\u001b[39murl,\n\u001b[0;32m    286\u001b[0m                                 stream\u001b[38;5;241m=\u001b[39m\u001b[38;5;28mself\u001b[39m\u001b[38;5;241m.\u001b[39mstream,\n\u001b[0;32m    287\u001b[0m                                 json\u001b[38;5;241m=\u001b[39mobj,\n\u001b[0;32m    288\u001b[0m                                 headers\u001b[38;5;241m=\u001b[39m{\u001b[38;5;241m*\u001b[39m\u001b[38;5;241m*\u001b[39m\u001b[38;5;28mself\u001b[39m\u001b[38;5;241m.\u001b[39mheaders},\n\u001b[0;32m    289\u001b[0m                                 timeout\u001b[38;5;241m=\u001b[39m\u001b[38;5;28mself\u001b[39m\u001b[38;5;241m.\u001b[39mtimeout)\n\u001b[0;32m    290\u001b[0m \u001b[38;5;28;01melif\u001b[39;00m \u001b[38;5;28mself\u001b[39m\u001b[38;5;241m.\u001b[39mmethod \u001b[38;5;241m==\u001b[39m HTTPMethod\u001b[38;5;241m.\u001b[39mGET:\n\u001b[0;32m    291\u001b[0m     response \u001b[38;5;241m=\u001b[39m session\u001b[38;5;241m.\u001b[39mget(url\u001b[38;5;241m=\u001b[39m\u001b[38;5;28mself\u001b[39m\u001b[38;5;241m.\u001b[39murl,\n\u001b[0;32m    292\u001b[0m                            params\u001b[38;5;241m=\u001b[39m\u001b[38;5;28mself\u001b[39m\u001b[38;5;241m.\u001b[39mdata\u001b[38;5;241m.\u001b[39mparameters,\n\u001b[0;32m    293\u001b[0m                            headers\u001b[38;5;241m=\u001b[39m\u001b[38;5;28mself\u001b[39m\u001b[38;5;241m.\u001b[39mheaders,\n\u001b[0;32m    294\u001b[0m                            timeout\u001b[38;5;241m=\u001b[39m\u001b[38;5;28mself\u001b[39m\u001b[38;5;241m.\u001b[39mtimeout)\n",
      "File \u001b[1;32md:\\anaconda3\\Lib\\site-packages\\requests\\sessions.py:637\u001b[0m, in \u001b[0;36mSession.post\u001b[1;34m(self, url, data, json, **kwargs)\u001b[0m\n\u001b[0;32m    626\u001b[0m \u001b[38;5;28;01mdef\u001b[39;00m \u001b[38;5;21mpost\u001b[39m(\u001b[38;5;28mself\u001b[39m, url, data\u001b[38;5;241m=\u001b[39m\u001b[38;5;28;01mNone\u001b[39;00m, json\u001b[38;5;241m=\u001b[39m\u001b[38;5;28;01mNone\u001b[39;00m, \u001b[38;5;241m*\u001b[39m\u001b[38;5;241m*\u001b[39mkwargs):\n\u001b[0;32m    627\u001b[0m \u001b[38;5;250m    \u001b[39m\u001b[38;5;124mr\u001b[39m\u001b[38;5;124;03m\"\"\"Sends a POST request. Returns :class:`Response` object.\u001b[39;00m\n\u001b[0;32m    628\u001b[0m \n\u001b[0;32m    629\u001b[0m \u001b[38;5;124;03m    :param url: URL for the new :class:`Request` object.\u001b[39;00m\n\u001b[1;32m   (...)\u001b[0m\n\u001b[0;32m    634\u001b[0m \u001b[38;5;124;03m    :rtype: requests.Response\u001b[39;00m\n\u001b[0;32m    635\u001b[0m \u001b[38;5;124;03m    \"\"\"\u001b[39;00m\n\u001b[1;32m--> 637\u001b[0m     \u001b[38;5;28;01mreturn\u001b[39;00m \u001b[38;5;28mself\u001b[39m\u001b[38;5;241m.\u001b[39mrequest(\u001b[38;5;124m\"\u001b[39m\u001b[38;5;124mPOST\u001b[39m\u001b[38;5;124m\"\u001b[39m, url, data\u001b[38;5;241m=\u001b[39mdata, json\u001b[38;5;241m=\u001b[39mjson, \u001b[38;5;241m*\u001b[39m\u001b[38;5;241m*\u001b[39mkwargs)\n",
      "File \u001b[1;32md:\\anaconda3\\Lib\\site-packages\\requests\\sessions.py:589\u001b[0m, in \u001b[0;36mSession.request\u001b[1;34m(self, method, url, params, data, headers, cookies, files, auth, timeout, allow_redirects, proxies, hooks, stream, verify, cert, json)\u001b[0m\n\u001b[0;32m    584\u001b[0m send_kwargs \u001b[38;5;241m=\u001b[39m {\n\u001b[0;32m    585\u001b[0m     \u001b[38;5;124m\"\u001b[39m\u001b[38;5;124mtimeout\u001b[39m\u001b[38;5;124m\"\u001b[39m: timeout,\n\u001b[0;32m    586\u001b[0m     \u001b[38;5;124m\"\u001b[39m\u001b[38;5;124mallow_redirects\u001b[39m\u001b[38;5;124m\"\u001b[39m: allow_redirects,\n\u001b[0;32m    587\u001b[0m }\n\u001b[0;32m    588\u001b[0m send_kwargs\u001b[38;5;241m.\u001b[39mupdate(settings)\n\u001b[1;32m--> 589\u001b[0m resp \u001b[38;5;241m=\u001b[39m \u001b[38;5;28mself\u001b[39m\u001b[38;5;241m.\u001b[39msend(prep, \u001b[38;5;241m*\u001b[39m\u001b[38;5;241m*\u001b[39msend_kwargs)\n\u001b[0;32m    591\u001b[0m \u001b[38;5;28;01mreturn\u001b[39;00m resp\n",
      "File \u001b[1;32md:\\anaconda3\\Lib\\site-packages\\requests\\sessions.py:703\u001b[0m, in \u001b[0;36mSession.send\u001b[1;34m(self, request, **kwargs)\u001b[0m\n\u001b[0;32m    700\u001b[0m start \u001b[38;5;241m=\u001b[39m preferred_clock()\n\u001b[0;32m    702\u001b[0m \u001b[38;5;66;03m# Send the request\u001b[39;00m\n\u001b[1;32m--> 703\u001b[0m r \u001b[38;5;241m=\u001b[39m adapter\u001b[38;5;241m.\u001b[39msend(request, \u001b[38;5;241m*\u001b[39m\u001b[38;5;241m*\u001b[39mkwargs)\n\u001b[0;32m    705\u001b[0m \u001b[38;5;66;03m# Total elapsed time of the request (approximately)\u001b[39;00m\n\u001b[0;32m    706\u001b[0m elapsed \u001b[38;5;241m=\u001b[39m preferred_clock() \u001b[38;5;241m-\u001b[39m start\n",
      "File \u001b[1;32md:\\anaconda3\\Lib\\site-packages\\requests\\adapters.py:700\u001b[0m, in \u001b[0;36mHTTPAdapter.send\u001b[1;34m(self, request, stream, timeout, verify, cert, proxies)\u001b[0m\n\u001b[0;32m    696\u001b[0m     \u001b[38;5;28;01mif\u001b[39;00m \u001b[38;5;28misinstance\u001b[39m(e\u001b[38;5;241m.\u001b[39mreason, _SSLError):\n\u001b[0;32m    697\u001b[0m         \u001b[38;5;66;03m# This branch is for urllib3 v1.22 and later.\u001b[39;00m\n\u001b[0;32m    698\u001b[0m         \u001b[38;5;28;01mraise\u001b[39;00m SSLError(e, request\u001b[38;5;241m=\u001b[39mrequest)\n\u001b[1;32m--> 700\u001b[0m     \u001b[38;5;28;01mraise\u001b[39;00m \u001b[38;5;167;01mConnectionError\u001b[39;00m(e, request\u001b[38;5;241m=\u001b[39mrequest)\n\u001b[0;32m    702\u001b[0m \u001b[38;5;28;01mexcept\u001b[39;00m ClosedPoolError \u001b[38;5;28;01mas\u001b[39;00m e:\n\u001b[0;32m    703\u001b[0m     \u001b[38;5;28;01mraise\u001b[39;00m \u001b[38;5;167;01mConnectionError\u001b[39;00m(e, request\u001b[38;5;241m=\u001b[39mrequest)\n",
      "\u001b[1;31mConnectionError\u001b[0m: HTTPSConnectionPool(host='dashscope.aliyuncs.com', port=443): Max retries exceeded with url: /api/v1/services/aigc/text-generation/generation (Caused by NewConnectionError('<urllib3.connection.HTTPSConnection object at 0x0000022EDBA34390>: Failed to establish a new connection: [Errno 11001] getaddrinfo failed'))"
     ]
    }
   ],
   "source": [
    "'''\n",
    "1，通过LLM根据SQL构造一个question\n",
    "2，按question-SQL的JSON入库\n",
    "            {\n",
    "                \"question\": question,\n",
    "                \"sql\": sql,\n",
    "            }\n",
    "'''\n",
    "\n",
    "vn.train(sql='select name from users where age between 10 and 50')"
   ]
  },
  {
   "cell_type": "code",
   "execution_count": null,
   "metadata": {},
   "outputs": [
    {
     "name": "stdout",
     "output_type": "stream",
     "text": [
      "PROMPT: The user will give you SQL and you will try to guess what the business question this query is answering. Return just the question without any additional explanation. Do not reference the table name in the question.\n",
      "ANSWER: What are the names of users whose age is between 10 and 50?\n"
     ]
    }
   ],
   "source": [
    "Q,A=DEBUG_INFO\n",
    "print('PROMPT:',Q[0]['content'])\n",
    "print('ANSWER:',A)"
   ]
  },
  {
   "cell_type": "code",
   "execution_count": null,
   "metadata": {},
   "outputs": [
    {
     "name": "stderr",
     "output_type": "stream",
     "text": [
      "Add of existing embedding ID: d6bea7e9-0c59-54cb-aebe-d4e39689cab9-sql\n",
      "Insert of existing embedding ID: d6bea7e9-0c59-54cb-aebe-d4e39689cab9-sql\n"
     ]
    },
    {
     "data": {
      "text/plain": [
       "'d6bea7e9-0c59-54cb-aebe-d4e39689cab9-sql'"
      ]
     },
     "execution_count": 10,
     "metadata": {},
     "output_type": "execute_result"
    }
   ],
   "source": [
    "'''\n",
    "按question-SQL的JSON入库\n",
    "            {\n",
    "                \"question\": question,\n",
    "                \"sql\": sql,\n",
    "            }\n",
    "'''\n",
    "vn.train(question='小鱼儿的年龄',sql='select age from users where name=\"小鱼儿\"')"
   ]
  },
  {
   "cell_type": "code",
   "execution_count": null,
   "metadata": {},
   "outputs": [
    {
     "name": "stderr",
     "output_type": "stream",
     "text": [
      "Delete of nonexisting embedding ID: 4d634f6e-a9c5-5673-ab4c-20964575fc2a-sql\n",
      "Delete of nonexisting embedding ID: 4d634f6e-a9c5-5673-ab4c-20964575fc2a-sql\n"
     ]
    },
    {
     "data": {
      "text/html": [
       "<div>\n",
       "<style scoped>\n",
       "    .dataframe tbody tr th:only-of-type {\n",
       "        vertical-align: middle;\n",
       "    }\n",
       "\n",
       "    .dataframe tbody tr th {\n",
       "        vertical-align: top;\n",
       "    }\n",
       "\n",
       "    .dataframe thead th {\n",
       "        text-align: right;\n",
       "    }\n",
       "</style>\n",
       "<table border=\"1\" class=\"dataframe\">\n",
       "  <thead>\n",
       "    <tr style=\"text-align: right;\">\n",
       "      <th></th>\n",
       "      <th>id</th>\n",
       "      <th>question</th>\n",
       "      <th>content</th>\n",
       "      <th>training_data_type</th>\n",
       "    </tr>\n",
       "  </thead>\n",
       "  <tbody>\n",
       "    <tr>\n",
       "      <th>0</th>\n",
       "      <td>9ccf7bcd-5091-5b97-bf72-af9d41e526a5-sql</td>\n",
       "      <td>What are the names of users whose age is betwe...</td>\n",
       "      <td>select name from user where age between 10 and 20</td>\n",
       "      <td>sql</td>\n",
       "    </tr>\n",
       "    <tr>\n",
       "      <th>1</th>\n",
       "      <td>ce40ba37-b3e8-5b0a-ae6e-6e9404652319-sql</td>\n",
       "      <td>What are the names of users whose age is betwe...</td>\n",
       "      <td>select name from user where age between 10 and 50</td>\n",
       "      <td>sql</td>\n",
       "    </tr>\n",
       "    <tr>\n",
       "      <th>2</th>\n",
       "      <td>d6bea7e9-0c59-54cb-aebe-d4e39689cab9-sql</td>\n",
       "      <td>小鱼儿的年龄</td>\n",
       "      <td>select age from users where name=\"小鱼儿\"</td>\n",
       "      <td>sql</td>\n",
       "    </tr>\n",
       "    <tr>\n",
       "      <th>3</th>\n",
       "      <td>d60fb50b-2ff8-51d5-9ef5-f4e79c7ea4f0-sql</td>\n",
       "      <td>用户的平均年龄</td>\n",
       "      <td>select avg(age) from users</td>\n",
       "      <td>sql</td>\n",
       "    </tr>\n",
       "    <tr>\n",
       "      <th>4</th>\n",
       "      <td>34bc30ff-3f11-5dcb-8b29-26a580fccb9b-sql</td>\n",
       "      <td>What are the names of users whose age is betwe...</td>\n",
       "      <td>select name from users where age between 10 an...</td>\n",
       "      <td>sql</td>\n",
       "    </tr>\n",
       "    <tr>\n",
       "      <th>5</th>\n",
       "      <td>5c785b40-dfdd-582a-90e2-3e2f20113b6d-sql</td>\n",
       "      <td>用户的平均年龄</td>\n",
       "      <td>SELECT AVG(age) FROM users;</td>\n",
       "      <td>sql</td>\n",
       "    </tr>\n",
       "    <tr>\n",
       "      <th>6</th>\n",
       "      <td>3192ce10-f704-56b7-9da7-e5272bec739a-sql</td>\n",
       "      <td>打算给一批员工送福报，把他们的名字过滤出来</td>\n",
       "      <td>SELECT name FROM users WHERE age &gt;= 35;</td>\n",
       "      <td>sql</td>\n",
       "    </tr>\n",
       "    <tr>\n",
       "      <th>7</th>\n",
       "      <td>7acdb5f3-93e3-52b8-a1bc-46bd2c809db6-sql</td>\n",
       "      <td>统计一下各年龄段的用户数量</td>\n",
       "      <td>SELECT age, COUNT(*) FROM users GROUP BY age;</td>\n",
       "      <td>sql</td>\n",
       "    </tr>\n",
       "    <tr>\n",
       "      <th>0</th>\n",
       "      <td>54cc1ab3-6dbb-54d1-bbd3-675304c87f9b-ddl</td>\n",
       "      <td>None</td>\n",
       "      <td>CREATE TABLE IF NOT EXISTS users (\\n    id INT...</td>\n",
       "      <td>ddl</td>\n",
       "    </tr>\n",
       "    <tr>\n",
       "      <th>0</th>\n",
       "      <td>8fc54ebe-8bb3-5fb7-88a6-5c98d817ed07-doc</td>\n",
       "      <td>None</td>\n",
       "      <td>\"福报\"是指age&gt;=35岁，也就是可以向社会输送的人才</td>\n",
       "      <td>documentation</td>\n",
       "    </tr>\n",
       "  </tbody>\n",
       "</table>\n",
       "</div>"
      ],
      "text/plain": [
       "                                         id  \\\n",
       "0  9ccf7bcd-5091-5b97-bf72-af9d41e526a5-sql   \n",
       "1  ce40ba37-b3e8-5b0a-ae6e-6e9404652319-sql   \n",
       "2  d6bea7e9-0c59-54cb-aebe-d4e39689cab9-sql   \n",
       "3  d60fb50b-2ff8-51d5-9ef5-f4e79c7ea4f0-sql   \n",
       "4  34bc30ff-3f11-5dcb-8b29-26a580fccb9b-sql   \n",
       "5  5c785b40-dfdd-582a-90e2-3e2f20113b6d-sql   \n",
       "6  3192ce10-f704-56b7-9da7-e5272bec739a-sql   \n",
       "7  7acdb5f3-93e3-52b8-a1bc-46bd2c809db6-sql   \n",
       "0  54cc1ab3-6dbb-54d1-bbd3-675304c87f9b-ddl   \n",
       "0  8fc54ebe-8bb3-5fb7-88a6-5c98d817ed07-doc   \n",
       "\n",
       "                                            question  \\\n",
       "0  What are the names of users whose age is betwe...   \n",
       "1  What are the names of users whose age is betwe...   \n",
       "2                                             小鱼儿的年龄   \n",
       "3                                            用户的平均年龄   \n",
       "4  What are the names of users whose age is betwe...   \n",
       "5                                            用户的平均年龄   \n",
       "6                              打算给一批员工送福报，把他们的名字过滤出来   \n",
       "7                                      统计一下各年龄段的用户数量   \n",
       "0                                               None   \n",
       "0                                               None   \n",
       "\n",
       "                                             content training_data_type  \n",
       "0  select name from user where age between 10 and 20                sql  \n",
       "1  select name from user where age between 10 and 50                sql  \n",
       "2             select age from users where name=\"小鱼儿\"                sql  \n",
       "3                         select avg(age) from users                sql  \n",
       "4  select name from users where age between 10 an...                sql  \n",
       "5                        SELECT AVG(age) FROM users;                sql  \n",
       "6            SELECT name FROM users WHERE age >= 35;                sql  \n",
       "7      SELECT age, COUNT(*) FROM users GROUP BY age;                sql  \n",
       "0  CREATE TABLE IF NOT EXISTS users (\\n    id INT...                ddl  \n",
       "0                       \"福报\"是指age>=35岁，也就是可以向社会输送的人才      documentation  "
      ]
     },
     "execution_count": 31,
     "metadata": {},
     "output_type": "execute_result"
    }
   ],
   "source": [
    "\n",
    "vn.remove_training_data(id='4d634f6e-a9c5-5673-ab4c-20964575fc2a-sql')\n",
    "vn.get_training_data()"
   ]
  },
  {
   "cell_type": "code",
   "execution_count": null,
   "metadata": {},
   "outputs": [
    {
     "name": "stderr",
     "output_type": "stream",
     "text": [
      "Number of requested results 10 is greater than number of elements in index 7, updating n_results = 7\n",
      "Number of requested results 10 is greater than number of elements in index 1, updating n_results = 1\n",
      "Number of requested results 10 is greater than number of elements in index 1, updating n_results = 1\n"
     ]
    },
    {
     "name": "stdout",
     "output_type": "stream",
     "text": [
      "SQL Prompt: [{'role': 'system', 'content': 'You are a PostgreSQL expert. Please help to generate a SQL query to answer the question. Your response should ONLY be based on the given context and follow the response guidelines and format instructions. \\n===Tables \\nCREATE TABLE IF NOT EXISTS users (\\n    id INT PRIMARY KEY,\\n    name VARCHAR(100),\\n    age INT\\n);\\n\\n-- 添加表注释\\nCOMMENT ON TABLE users is\\n \\'用户信息表\\';\\n\\n-- 添加字段注释\\nCOMMENT ON COLUMN users.id IS \\'用户ID\\';\\nCOMMENT ON COLUMN users.name IS \\'姓名\\';\\nCOMMENT ON COLUMN users.age IS \\'年龄\\';\\n\\n\\n\\n\\n===Additional Context \\n\\n\"福报\"是指age>=35岁，也就是可以向社会输送的人才\\n\\n===Response Guidelines \\n1. If the provided context is sufficient, please generate a valid SQL query without any explanations for the question. \\n2. If the provided context is almost sufficient but requires knowledge of a specific string in a particular column, please generate an intermediate SQL query to find the distinct strings in that column. Prepend the query with a comment saying intermediate_sql \\n3. If the provided context is insufficient, please explain why it can\\'t be generated. \\n4. Please use the most relevant table(s). \\n5. If the question has been asked and answered before, please repeat the answer exactly as it was given before. \\n6. Ensure that the output SQL is PostgreSQL-compliant and executable, and free of syntax errors. \\n'}, {'role': 'user', 'content': '用户的平均年龄'}, {'role': 'assistant', 'content': 'SELECT AVG(age) FROM users;'}, {'role': 'user', 'content': '用户的平均年龄'}, {'role': 'assistant', 'content': 'select avg(age) from users'}, {'role': 'user', 'content': '打算给一批员工送福报，把他们的名字过滤出来'}, {'role': 'assistant', 'content': 'SELECT name FROM users WHERE age >= 35;'}, {'role': 'user', 'content': '小鱼儿的年龄'}, {'role': 'assistant', 'content': 'select age from users where name=\"小鱼儿\"'}, {'role': 'user', 'content': 'What are the names of users whose age is between 10 and 50?'}, {'role': 'assistant', 'content': 'select name from users where age between 10 and 50'}, {'role': 'user', 'content': 'What are the names of users whose age is between 10 and 50?'}, {'role': 'assistant', 'content': 'select name from user where age between 10 and 50'}, {'role': 'user', 'content': 'What are the names of users whose age is between 10 and 20?'}, {'role': 'assistant', 'content': 'select name from user where age between 10 and 20'}, {'role': 'user', 'content': '用户的平均年龄'}]\n",
      "LLM Response: SELECT AVG(age) FROM users;\n",
      "Extracted SQL: SELECT AVG(age) FROM users;\n",
      "SQL: SELECT AVG(age) FROM users;\n",
      "PROMPT: You are a PostgreSQL expert. Please help to generate a SQL query to answer the question. Your response should ONLY be based on the given context and follow the response guidelines and format instructions. \n",
      "===Tables \n",
      "CREATE TABLE IF NOT EXISTS users (\n",
      "    id INT PRIMARY KEY,\n",
      "    name VARCHAR(100),\n",
      "    age INT\n",
      ");\n",
      "\n",
      "-- 添加表注释\n",
      "COMMENT ON TABLE users is\n",
      " '用户信息表';\n",
      "\n",
      "-- 添加字段注释\n",
      "COMMENT ON COLUMN users.id IS '用户ID';\n",
      "COMMENT ON COLUMN users.name IS '姓名';\n",
      "COMMENT ON COLUMN users.age IS '年龄';\n",
      "\n",
      "\n",
      "\n",
      "\n",
      "===Additional Context \n",
      "\n",
      "\"福报\"是指age>=35岁，也就是可以向社会输送的人才\n",
      "\n",
      "===Response Guidelines \n",
      "1. If the provided context is sufficient, please generate a valid SQL query without any explanations for the question. \n",
      "2. If the provided context is almost sufficient but requires knowledge of a specific string in a particular column, please generate an intermediate SQL query to find the distinct strings in that column. Prepend the query with a comment saying intermediate_sql \n",
      "3. If the provided context is insufficient, please explain why it can't be generated. \n",
      "4. Please use the most relevant table(s). \n",
      "5. If the question has been asked and answered before, please repeat the answer exactly as it was given before. \n",
      "6. Ensure that the output SQL is PostgreSQL-compliant and executable, and free of syntax errors. \n",
      "\n",
      "ANSWER: SELECT AVG(age) FROM users;\n"
     ]
    }
   ],
   "source": [
    "result=vn.generate_sql('用户的平均年龄')\n",
    "print('SQL:',result)\n",
    "\n",
    "Q,A=DEBUG_INFO\n",
    "print('PROMPT:',Q[0]['content'])\n",
    "print('ANSWER:',A)"
   ]
  },
  {
   "cell_type": "code",
   "execution_count": null,
   "metadata": {},
   "outputs": [],
   "source": [
    "# vn.ask('用户的平均年龄')"
   ]
  },
  {
   "cell_type": "code",
   "execution_count": null,
   "metadata": {},
   "outputs": [
    {
     "name": "stderr",
     "output_type": "stream",
     "text": [
      "Number of requested results 10 is greater than number of elements in index 7, updating n_results = 7\n",
      "Number of requested results 10 is greater than number of elements in index 1, updating n_results = 1\n",
      "Number of requested results 10 is greater than number of elements in index 1, updating n_results = 1\n"
     ]
    },
    {
     "name": "stdout",
     "output_type": "stream",
     "text": [
      "SQL Prompt: [{'role': 'system', 'content': 'You are a PostgreSQL expert. Please help to generate a SQL query to answer the question. Your response should ONLY be based on the given context and follow the response guidelines and format instructions. \\n===Tables \\nCREATE TABLE IF NOT EXISTS users (\\n    id INT PRIMARY KEY,\\n    name VARCHAR(100),\\n    age INT\\n);\\n\\n-- 添加表注释\\nCOMMENT ON TABLE users is\\n \\'用户信息表\\';\\n\\n-- 添加字段注释\\nCOMMENT ON COLUMN users.id IS \\'用户ID\\';\\nCOMMENT ON COLUMN users.name IS \\'姓名\\';\\nCOMMENT ON COLUMN users.age IS \\'年龄\\';\\n\\n\\n\\n\\n===Additional Context \\n\\n\"福报\"是指age>=35岁，也就是可以向社会输送的人才\\n\\n===Response Guidelines \\n1. If the provided context is sufficient, please generate a valid SQL query without any explanations for the question. \\n2. If the provided context is almost sufficient but requires knowledge of a specific string in a particular column, please generate an intermediate SQL query to find the distinct strings in that column. Prepend the query with a comment saying intermediate_sql \\n3. If the provided context is insufficient, please explain why it can\\'t be generated. \\n4. Please use the most relevant table(s). \\n5. If the question has been asked and answered before, please repeat the answer exactly as it was given before. \\n6. Ensure that the output SQL is PostgreSQL-compliant and executable, and free of syntax errors. \\n'}, {'role': 'user', 'content': '打算给一批员工送福报，把他们的名字过滤出来'}, {'role': 'assistant', 'content': 'SELECT name FROM users WHERE age >= 35;'}, {'role': 'user', 'content': '用户的平均年龄'}, {'role': 'assistant', 'content': 'SELECT AVG(age) FROM users;'}, {'role': 'user', 'content': '用户的平均年龄'}, {'role': 'assistant', 'content': 'select avg(age) from users'}, {'role': 'user', 'content': '小鱼儿的年龄'}, {'role': 'assistant', 'content': 'select age from users where name=\"小鱼儿\"'}, {'role': 'user', 'content': 'What are the names of users whose age is between 10 and 50?'}, {'role': 'assistant', 'content': 'select name from users where age between 10 and 50'}, {'role': 'user', 'content': 'What are the names of users whose age is between 10 and 50?'}, {'role': 'assistant', 'content': 'select name from user where age between 10 and 50'}, {'role': 'user', 'content': 'What are the names of users whose age is between 10 and 20?'}, {'role': 'assistant', 'content': 'select name from user where age between 10 and 20'}, {'role': 'user', 'content': '打算给一批员工送福报，把他们的名字过滤出来'}]\n",
      "LLM Response: SELECT name FROM users WHERE age >= 35;\n",
      "Extracted SQL: SELECT name FROM users WHERE age >= 35;\n"
     ]
    }
   ],
   "source": [
    "result=vn.generate_sql('打算给一批员工送福报，把他们的名字过滤出来')"
   ]
  },
  {
   "cell_type": "code",
   "execution_count": 1,
   "metadata": {},
   "outputs": [
    {
     "ename": "NameError",
     "evalue": "name 'vn' is not defined",
     "output_type": "error",
     "traceback": [
      "\u001b[1;31m---------------------------------------------------------------------------\u001b[0m",
      "\u001b[1;31mNameError\u001b[0m                                 Traceback (most recent call last)",
      "Cell \u001b[1;32mIn[1], line 1\u001b[0m\n\u001b[1;32m----> 1\u001b[0m vn\u001b[38;5;241m.\u001b[39mask(\u001b[38;5;124m'\u001b[39m\u001b[38;5;124m打算给一批员工送福报，把他们的名字过滤出来\u001b[39m\u001b[38;5;124m'\u001b[39m,visualize\u001b[38;5;241m=\u001b[39m\u001b[38;5;28;01mFalse\u001b[39;00m)\n",
      "\u001b[1;31mNameError\u001b[0m: name 'vn' is not defined"
     ]
    }
   ],
   "source": [
    "vn.ask('打算给一批员工送福报，把他们的名字过滤出来',visualize=False)"
   ]
  },
  {
   "cell_type": "code",
   "execution_count": null,
   "metadata": {},
   "outputs": [
    {
     "name": "stdout",
     "output_type": "stream",
     "text": [
      "PROMPT: You are a PostgreSQL expert. Please help to generate a SQL query to answer the question. Your response should ONLY be based on the given context and follow the response guidelines and format instructions. \n",
      "===Tables \n",
      "CREATE TABLE IF NOT EXISTS users (\n",
      "    id INT PRIMARY KEY,\n",
      "    name VARCHAR(100),\n",
      "    age INT\n",
      ");\n",
      "\n",
      "-- 添加表注释\n",
      "COMMENT ON TABLE users is\n",
      " '用户信息表';\n",
      "\n",
      "-- 添加字段注释\n",
      "COMMENT ON COLUMN users.id IS '用户ID';\n",
      "COMMENT ON COLUMN users.name IS '姓名';\n",
      "COMMENT ON COLUMN users.age IS '年龄';\n",
      "\n",
      "\n",
      "\n",
      "\n",
      "===Additional Context \n",
      "\n",
      "\"福报\"是指age>=35岁，也就是可以向社会输送的人才\n",
      "\n",
      "===Response Guidelines \n",
      "1. If the provided context is sufficient, please generate a valid SQL query without any explanations for the question. \n",
      "2. If the provided context is almost sufficient but requires knowledge of a specific string in a particular column, please generate an intermediate SQL query to find the distinct strings in that column. Prepend the query with a comment saying intermediate_sql \n",
      "3. If the provided context is insufficient, please explain why it can't be generated. \n",
      "4. Please use the most relevant table(s). \n",
      "5. If the question has been asked and answered before, please repeat the answer exactly as it was given before. \n",
      "6. Ensure that the output SQL is PostgreSQL-compliant and executable, and free of syntax errors. \n",
      "\n",
      "ANSWER: SELECT name FROM users WHERE age >= 35;\n"
     ]
    }
   ],
   "source": [
    "Q,A=DEBUG_INFO\n",
    "print('PROMPT:',Q[0]['content'])\n",
    "print('ANSWER:',A)"
   ]
  },
  {
   "cell_type": "code",
   "execution_count": 49,
   "metadata": {},
   "outputs": [
    {
     "name": "stdout",
     "output_type": "stream",
     "text": [
      "Adding documentation....\n"
     ]
    },
    {
     "data": {
      "text/plain": [
       "'e2a52aec-becc-5dfa-97b3-c2b94d8cb1e4-doc'"
      ]
     },
     "execution_count": 49,
     "metadata": {},
     "output_type": "execute_result"
    }
   ],
   "source": [
    "\n",
    "vn.train(documentation='\"年龄段\"是指0-10,10-20,20-30,30-40,40-50,50-60,60-70,70-80...左闭右开区间')"
   ]
  },
  {
   "cell_type": "code",
   "execution_count": 50,
   "metadata": {},
   "outputs": [
    {
     "name": "stderr",
     "output_type": "stream",
     "text": [
      "Number of requested results 10 is greater than number of elements in index 1, updating n_results = 1\n"
     ]
    },
    {
     "name": "stderr",
     "output_type": "stream",
     "text": [
      "Number of requested results 10 is greater than number of elements in index 1, updating n_results = 1\n",
      "Number of requested results 10 is greater than number of elements in index 2, updating n_results = 2\n"
     ]
    },
    {
     "name": "stdout",
     "output_type": "stream",
     "text": [
      "SQL Prompt: [{'role': 'system', 'content': 'You are a PostgreSQL expert. Please help to generate a SQL query to answer the question. Your response should ONLY be based on the given context and follow the response guidelines and format instructions. \\n===Tables \\nCREATE TABLE IF NOT EXISTS users (\\n    id INT PRIMARY KEY,\\n    name VARCHAR(100),\\n    age INT\\n);\\n\\n-- 添加表注释\\nCOMMENT ON TABLE users is\\n \\'用户信息表\\';\\n\\n-- 添加字段注释\\nCOMMENT ON COLUMN users.id IS \\'用户ID\\';\\nCOMMENT ON COLUMN users.name IS \\'姓名\\';\\nCOMMENT ON COLUMN users.age IS \\'年龄\\';\\n\\n\\n\\n\\n===Additional Context \\n\\n\"年龄段\"是指0-10,10-20,20-30,30-40,40-50,50-60,60-70,70-80...左闭右开区间\\n\\n\"福报\"是指age>=35岁，也就是可以向社会输送的人才\\n\\n===Response Guidelines \\n1. If the provided context is sufficient, please generate a valid SQL query without any explanations for the question. \\n2. If the provided context is almost sufficient but requires knowledge of a specific string in a particular column, please generate an intermediate SQL query to find the distinct strings in that column. Prepend the query with a comment saying intermediate_sql \\n3. If the provided context is insufficient, please explain why it can\\'t be generated. \\n4. Please use the most relevant table(s). \\n5. If the question has been asked and answered before, please repeat the answer exactly as it was given before. \\n6. Ensure that the output SQL is PostgreSQL-compliant and executable, and free of syntax errors. \\n'}, {'role': 'user', 'content': '统计一下各年龄段的用户数量'}, {'role': 'assistant', 'content': \"SELECT \\n    CASE \\n        WHEN age < 18 THEN '0-17'\\n        WHEN age BETWEEN 18 AND 25 THEN '18-25'\\n        WHEN age BETWEEN 26 AND 34 THEN '26-34'\\n        WHEN age >= 35 THEN '35+'\\n    END AS age_group,\\n    COUNT(*) AS user_count\\nFROM users\\nGROUP BY age_group\\nORDER BY MIN(age);\"}, {'role': 'user', 'content': '统计一下各年龄段的用户数量'}]\n",
      "LLM Response: ```sql\n",
      "SELECT \n",
      "    CASE \n",
      "        WHEN age >= 0 AND age < 10 THEN '0-10'\n",
      "        WHEN age >= 10 AND age < 20 THEN '10-20'\n",
      "        WHEN age >= 20 AND age < 30 THEN '20-30'\n",
      "        WHEN age >= 30 AND age < 40 THEN '30-40'\n",
      "        WHEN age >= 40 AND age < 50 THEN '40-50'\n",
      "        WHEN age >= 50 AND age < 60 THEN '50-60'\n",
      "        WHEN age >= 60 AND age < 70 THEN '60-70'\n",
      "        WHEN age >= 70 AND age < 80 THEN '70-80'\n",
      "        ELSE '80+'\n",
      "    END AS age_group,\n",
      "    COUNT(*) AS user_count\n",
      "FROM users\n",
      "GROUP BY age_group\n",
      "ORDER BY MIN(age);\n",
      "```\n",
      "Extracted SQL: SELECT \n",
      "    CASE \n",
      "        WHEN age >= 0 AND age < 10 THEN '0-10'\n",
      "        WHEN age >= 10 AND age < 20 THEN '10-20'\n",
      "        WHEN age >= 20 AND age < 30 THEN '20-30'\n",
      "        WHEN age >= 30 AND age < 40 THEN '30-40'\n",
      "        WHEN age >= 40 AND age < 50 THEN '40-50'\n",
      "        WHEN age >= 50 AND age < 60 THEN '50-60'\n",
      "        WHEN age >= 60 AND age < 70 THEN '60-70'\n",
      "        WHEN age >= 70 AND age < 80 THEN '70-80'\n",
      "        ELSE '80+'\n",
      "    END AS age_group,\n",
      "    COUNT(*) AS user_count\n",
      "FROM users\n",
      "GROUP BY age_group\n",
      "ORDER BY MIN(age);\n",
      "SELECT \n",
      "    CASE \n",
      "        WHEN age >= 0 AND age < 10 THEN '0-10'\n",
      "        WHEN age >= 10 AND age < 20 THEN '10-20'\n",
      "        WHEN age >= 20 AND age < 30 THEN '20-30'\n",
      "        WHEN age >= 30 AND age < 40 THEN '30-40'\n",
      "        WHEN age >= 40 AND age < 50 THEN '40-50'\n",
      "        WHEN age >= 50 AND age < 60 THEN '50-60'\n",
      "        WHEN age >= 60 AND age < 70 THEN '60-70'\n",
      "        WHEN age >= 70 AND age < 80 THEN '70-80'\n",
      "        ELSE '80+'\n",
      "    END AS age_group,\n",
      "    COUNT(*) AS user_count\n",
      "FROM users\n",
      "GROUP BY age_group\n",
      "ORDER BY MIN(age);\n",
      "  age_group  user_count\n",
      "0     10-20           2\n",
      "1     40-50           2\n"
     ]
    },
    {
     "data": {
      "text/plain": [
       "(\"SELECT \\n    CASE \\n        WHEN age >= 0 AND age < 10 THEN '0-10'\\n        WHEN age >= 10 AND age < 20 THEN '10-20'\\n        WHEN age >= 20 AND age < 30 THEN '20-30'\\n        WHEN age >= 30 AND age < 40 THEN '30-40'\\n        WHEN age >= 40 AND age < 50 THEN '40-50'\\n        WHEN age >= 50 AND age < 60 THEN '50-60'\\n        WHEN age >= 60 AND age < 70 THEN '60-70'\\n        WHEN age >= 70 AND age < 80 THEN '70-80'\\n        ELSE '80+'\\n    END AS age_group,\\n    COUNT(*) AS user_count\\nFROM users\\nGROUP BY age_group\\nORDER BY MIN(age);\",\n",
       "   age_group  user_count\n",
       " 0     10-20           2\n",
       " 1     40-50           2,\n",
       " None)"
      ]
     },
     "execution_count": 50,
     "metadata": {},
     "output_type": "execute_result"
    }
   ],
   "source": [
    "vn.ask('统计一下各年龄段的用户数量',visualize=False)"
   ]
  }
 ],
 "metadata": {
  "kernelspec": {
   "display_name": "base",
   "language": "python",
   "name": "python3"
  },
  "language_info": {
   "codemirror_mode": {
    "name": "ipython",
    "version": 3
   },
   "file_extension": ".py",
   "mimetype": "text/x-python",
   "name": "python",
   "nbconvert_exporter": "python",
   "pygments_lexer": "ipython3",
   "version": "3.11.5"
  }
 },
 "nbformat": 4,
 "nbformat_minor": 2
}
