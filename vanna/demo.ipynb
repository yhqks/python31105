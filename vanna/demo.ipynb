{
 "cells": [
  {
   "cell_type": "code",
   "execution_count": 1,
   "metadata": {},
   "outputs": [],
   "source": [
    "# -*- coding: utf-8 -*-\n",
    "import random\n",
    "import os\n",
    "from dashscope import Generation\n",
    "from torch import seed\n",
    "from vanna.base import VannaBase\n",
    "import random \n",
    "\n",
    "DEBUG_INFO=None\n",
    "\n",
    "class QwenLLM(VannaBase):\n",
    "  def __init__(self,config=None):\n",
    "    self.model=config['model']\n",
    "    self.api_key=config['api_key']\n",
    "  \n",
    "  def system_message(self,message: str):\n",
    "    return {'role':'system','content':message}\n",
    "\n",
    "  def user_message(self, message: str):\n",
    "    return {'role':'user','content':message}\n",
    "\n",
    "  def assistant_message(self, message: str):\n",
    "    return {'role':'assistant','content':message}\n",
    "  \n",
    "  def submit_prompt(self,prompt,**kwargs):\n",
    "    resp=Generation.call(\n",
    "      model=self.model,\n",
    "      messages=prompt,\n",
    "      seed=random.randint(1, 10000),\n",
    "      result_format='message',\n",
    "      api_key=self.api_key)\n",
    "    answer=resp.output.choices[0].message.content\n",
    "    global DEBUG_INFO\n",
    "    DEBUG_INFO=(prompt,answer)\n",
    "    return answer\n",
    "\n",
    "\n"
   ]
  },
  {
   "cell_type": "code",
   "execution_count": 2,
   "metadata": {},
   "outputs": [],
   "source": [
    "from vanna.chromadb import ChromaDB_VectorStore\n",
    "class MyVanna(ChromaDB_VectorStore,QwenLLM):\n",
    "    def __init__(self, config=None):\n",
    "        ChromaDB_VectorStore.__init__(self,config=config)\n",
    "        QwenLLM.__init__(self,config=config)"
   ]
  },
  {
   "cell_type": "code",
   "execution_count": null,
   "metadata": {},
   "outputs": [
    {
     "name": "stdout",
     "output_type": "stream",
     "text": [
      "model: None\n"
     ]
    }
   ],
   "source": [
    "vn=MyVanna({'api_key':'sk-252e6b83b1e6490f945bd740cf8c7cee','model':'qwen-max'})\n",
    "print('model:',os.getenv('model'))"
   ]
  },
  {
   "cell_type": "code",
   "execution_count": 4,
   "metadata": {},
   "outputs": [],
   "source": [
    "vn.connect_to_postgres(host='localhost',dbname='databasetest',user='postgres',password='123456',port=5432) # connect to postgres"
   ]
  },
  {
   "cell_type": "code",
   "execution_count": 5,
   "metadata": {},
   "outputs": [],
   "source": [
    "DDL='''CREATE TABLE IF NOT EXISTS users (\n",
    "    id INT PRIMARY KEY,\n",
    "    name VARCHAR(100),\n",
    "    age INT\n",
    ");\n",
    "\n",
    "-- 添加表注释\n",
    "COMMENT ON TABLE users is\n",
    " '用户信息表';\n",
    "\n",
    "-- 添加字段注释\n",
    "COMMENT ON COLUMN users.id IS '用户ID';\n",
    "COMMENT ON COLUMN users.name IS '姓名';\n",
    "COMMENT ON COLUMN users.age IS '年龄';\n",
    "\n",
    "'''\n"
   ]
  },
  {
   "cell_type": "code",
   "execution_count": 6,
   "metadata": {},
   "outputs": [
    {
     "name": "stdout",
     "output_type": "stream",
     "text": [
      "Adding ddl: CREATE TABLE IF NOT EXISTS users (\n",
      "    id INT PRIMARY KEY,\n",
      "    name VARCHAR(100),\n",
      "    age INT\n",
      ");\n",
      "\n",
      "-- 添加表注释\n",
      "COMMENT ON TABLE users is\n",
      " '用户信息表';\n",
      "\n",
      "-- 添加字段注释\n",
      "COMMENT ON COLUMN users.id IS '用户ID';\n",
      "COMMENT ON COLUMN users.name IS '姓名';\n",
      "COMMENT ON COLUMN users.age IS '年龄';\n",
      "\n",
      "\n"
     ]
    },
    {
     "name": "stderr",
     "output_type": "stream",
     "text": [
      "Add of existing embedding ID: ab0ac208-2f5e-50b0-9177-423427220940-ddl\n",
      "Add of existing embedding ID: ab0ac208-2f5e-50b0-9177-423427220940-ddl\n",
      "Add of existing embedding ID: 54cc1ab3-6dbb-54d1-bbd3-675304c87f9b-ddl\n",
      "Delete of nonexisting embedding ID: ab0ac208-2f5e-50b0-9177-423427220940-ddl\n",
      "Add of existing embedding ID: 54cc1ab3-6dbb-54d1-bbd3-675304c87f9b-ddl\n",
      "Delete of nonexisting embedding ID: ab0ac208-2f5e-50b0-9177-423427220940-ddl\n",
      "Add of existing embedding ID: 54cc1ab3-6dbb-54d1-bbd3-675304c87f9b-ddl\n",
      "Delete of nonexisting embedding ID: ab0ac208-2f5e-50b0-9177-423427220940-ddl\n",
      "Insert of existing embedding ID: 54cc1ab3-6dbb-54d1-bbd3-675304c87f9b-ddl\n",
      "Add of existing embedding ID: 54cc1ab3-6dbb-54d1-bbd3-675304c87f9b-ddl\n"
     ]
    },
    {
     "data": {
      "text/plain": [
       "'54cc1ab3-6dbb-54d1-bbd3-675304c87f9b-ddl'"
      ]
     },
     "execution_count": 6,
     "metadata": {},
     "output_type": "execute_result"
    }
   ],
   "source": [
    "vn.train(ddl=DDL)"
   ]
  },
  {
   "cell_type": "code",
   "execution_count": 7,
   "metadata": {},
   "outputs": [
    {
     "name": "stderr",
     "output_type": "stream",
     "text": [
      "Add of existing embedding ID: 8fc54ebe-8bb3-5fb7-88a6-5c98d817ed07-doc\n",
      "Add of existing embedding ID: 8fc54ebe-8bb3-5fb7-88a6-5c98d817ed07-doc\n",
      "Add of existing embedding ID: 8fc54ebe-8bb3-5fb7-88a6-5c98d817ed07-doc\n",
      "Insert of existing embedding ID: 8fc54ebe-8bb3-5fb7-88a6-5c98d817ed07-doc\n",
      "Add of existing embedding ID: 8fc54ebe-8bb3-5fb7-88a6-5c98d817ed07-doc\n"
     ]
    },
    {
     "name": "stdout",
     "output_type": "stream",
     "text": [
      "Adding documentation....\n"
     ]
    },
    {
     "data": {
      "text/plain": [
       "'8fc54ebe-8bb3-5fb7-88a6-5c98d817ed07-doc'"
      ]
     },
     "execution_count": 7,
     "metadata": {},
     "output_type": "execute_result"
    }
   ],
   "source": [
    "vn.train(documentation='\"福报\"是指age>=35岁，也就是可以向社会输送的人才')"
   ]
  },
  {
   "cell_type": "code",
   "execution_count": 8,
   "metadata": {},
   "outputs": [
    {
     "name": "stderr",
     "output_type": "stream",
     "text": [
      "Add of existing embedding ID: d6bea7e9-0c59-54cb-aebe-d4e39689cab9-sql\n",
      "Add of existing embedding ID: d60fb50b-2ff8-51d5-9ef5-f4e79c7ea4f0-sql\n",
      "Add of existing embedding ID: 34bc30ff-3f11-5dcb-8b29-26a580fccb9b-sql\n",
      "Add of existing embedding ID: d6bea7e9-0c59-54cb-aebe-d4e39689cab9-sql\n",
      "Add of existing embedding ID: 34bc30ff-3f11-5dcb-8b29-26a580fccb9b-sql\n",
      "Add of existing embedding ID: d6bea7e9-0c59-54cb-aebe-d4e39689cab9-sql\n",
      "Add of existing embedding ID: 34bc30ff-3f11-5dcb-8b29-26a580fccb9b-sql\n",
      "Insert of existing embedding ID: 34bc30ff-3f11-5dcb-8b29-26a580fccb9b-sql\n"
     ]
    },
    {
     "name": "stdout",
     "output_type": "stream",
     "text": [
      "Question generated with sql: What are the names of users whose age is between 10 and 50? \n",
      "Adding SQL...\n"
     ]
    },
    {
     "data": {
      "text/plain": [
       "'34bc30ff-3f11-5dcb-8b29-26a580fccb9b-sql'"
      ]
     },
     "execution_count": 8,
     "metadata": {},
     "output_type": "execute_result"
    }
   ],
   "source": [
    "'''\n",
    "1，通过LLM根据SQL构造一个question\n",
    "2，按question-SQL的JSON入库\n",
    "            {\n",
    "                \"question\": question,\n",
    "                \"sql\": sql,\n",
    "            }\n",
    "'''\n",
    "\n",
    "vn.train(sql='select name from users where age between 10 and 50')"
   ]
  },
  {
   "cell_type": "code",
   "execution_count": 9,
   "metadata": {},
   "outputs": [
    {
     "name": "stdout",
     "output_type": "stream",
     "text": [
      "PROMPT: The user will give you SQL and you will try to guess what the business question this query is answering. Return just the question without any additional explanation. Do not reference the table name in the question.\n",
      "ANSWER: What are the names of users whose age is between 10 and 50?\n"
     ]
    }
   ],
   "source": [
    "Q,A=DEBUG_INFO\n",
    "print('PROMPT:',Q[0]['content'])\n",
    "print('ANSWER:',A)"
   ]
  },
  {
   "cell_type": "code",
   "execution_count": 10,
   "metadata": {},
   "outputs": [
    {
     "name": "stderr",
     "output_type": "stream",
     "text": [
      "Add of existing embedding ID: d6bea7e9-0c59-54cb-aebe-d4e39689cab9-sql\n",
      "Insert of existing embedding ID: d6bea7e9-0c59-54cb-aebe-d4e39689cab9-sql\n"
     ]
    },
    {
     "data": {
      "text/plain": [
       "'d6bea7e9-0c59-54cb-aebe-d4e39689cab9-sql'"
      ]
     },
     "execution_count": 10,
     "metadata": {},
     "output_type": "execute_result"
    }
   ],
   "source": [
    "'''\n",
    "按question-SQL的JSON入库\n",
    "            {\n",
    "                \"question\": question,\n",
    "                \"sql\": sql,\n",
    "            }\n",
    "'''\n",
    "vn.train(question='小鱼儿的年龄',sql='select age from users where name=\"小鱼儿\"')"
   ]
  },
  {
   "cell_type": "code",
   "execution_count": 31,
   "metadata": {},
   "outputs": [
    {
     "name": "stderr",
     "output_type": "stream",
     "text": [
      "Delete of nonexisting embedding ID: 4d634f6e-a9c5-5673-ab4c-20964575fc2a-sql\n",
      "Delete of nonexisting embedding ID: 4d634f6e-a9c5-5673-ab4c-20964575fc2a-sql\n"
     ]
    },
    {
     "data": {
      "text/html": [
       "<div>\n",
       "<style scoped>\n",
       "    .dataframe tbody tr th:only-of-type {\n",
       "        vertical-align: middle;\n",
       "    }\n",
       "\n",
       "    .dataframe tbody tr th {\n",
       "        vertical-align: top;\n",
       "    }\n",
       "\n",
       "    .dataframe thead th {\n",
       "        text-align: right;\n",
       "    }\n",
       "</style>\n",
       "<table border=\"1\" class=\"dataframe\">\n",
       "  <thead>\n",
       "    <tr style=\"text-align: right;\">\n",
       "      <th></th>\n",
       "      <th>id</th>\n",
       "      <th>question</th>\n",
       "      <th>content</th>\n",
       "      <th>training_data_type</th>\n",
       "    </tr>\n",
       "  </thead>\n",
       "  <tbody>\n",
       "    <tr>\n",
       "      <th>0</th>\n",
       "      <td>9ccf7bcd-5091-5b97-bf72-af9d41e526a5-sql</td>\n",
       "      <td>What are the names of users whose age is betwe...</td>\n",
       "      <td>select name from user where age between 10 and 20</td>\n",
       "      <td>sql</td>\n",
       "    </tr>\n",
       "    <tr>\n",
       "      <th>1</th>\n",
       "      <td>ce40ba37-b3e8-5b0a-ae6e-6e9404652319-sql</td>\n",
       "      <td>What are the names of users whose age is betwe...</td>\n",
       "      <td>select name from user where age between 10 and 50</td>\n",
       "      <td>sql</td>\n",
       "    </tr>\n",
       "    <tr>\n",
       "      <th>2</th>\n",
       "      <td>d6bea7e9-0c59-54cb-aebe-d4e39689cab9-sql</td>\n",
       "      <td>小鱼儿的年龄</td>\n",
       "      <td>select age from users where name=\"小鱼儿\"</td>\n",
       "      <td>sql</td>\n",
       "    </tr>\n",
       "    <tr>\n",
       "      <th>3</th>\n",
       "      <td>d60fb50b-2ff8-51d5-9ef5-f4e79c7ea4f0-sql</td>\n",
       "      <td>用户的平均年龄</td>\n",
       "      <td>select avg(age) from users</td>\n",
       "      <td>sql</td>\n",
       "    </tr>\n",
       "    <tr>\n",
       "      <th>4</th>\n",
       "      <td>34bc30ff-3f11-5dcb-8b29-26a580fccb9b-sql</td>\n",
       "      <td>What are the names of users whose age is betwe...</td>\n",
       "      <td>select name from users where age between 10 an...</td>\n",
       "      <td>sql</td>\n",
       "    </tr>\n",
       "    <tr>\n",
       "      <th>5</th>\n",
       "      <td>5c785b40-dfdd-582a-90e2-3e2f20113b6d-sql</td>\n",
       "      <td>用户的平均年龄</td>\n",
       "      <td>SELECT AVG(age) FROM users;</td>\n",
       "      <td>sql</td>\n",
       "    </tr>\n",
       "    <tr>\n",
       "      <th>6</th>\n",
       "      <td>3192ce10-f704-56b7-9da7-e5272bec739a-sql</td>\n",
       "      <td>打算给一批员工送福报，把他们的名字过滤出来</td>\n",
       "      <td>SELECT name FROM users WHERE age &gt;= 35;</td>\n",
       "      <td>sql</td>\n",
       "    </tr>\n",
       "    <tr>\n",
       "      <th>7</th>\n",
       "      <td>7acdb5f3-93e3-52b8-a1bc-46bd2c809db6-sql</td>\n",
       "      <td>统计一下各年龄段的用户数量</td>\n",
       "      <td>SELECT age, COUNT(*) FROM users GROUP BY age;</td>\n",
       "      <td>sql</td>\n",
       "    </tr>\n",
       "    <tr>\n",
       "      <th>0</th>\n",
       "      <td>54cc1ab3-6dbb-54d1-bbd3-675304c87f9b-ddl</td>\n",
       "      <td>None</td>\n",
       "      <td>CREATE TABLE IF NOT EXISTS users (\\n    id INT...</td>\n",
       "      <td>ddl</td>\n",
       "    </tr>\n",
       "    <tr>\n",
       "      <th>0</th>\n",
       "      <td>8fc54ebe-8bb3-5fb7-88a6-5c98d817ed07-doc</td>\n",
       "      <td>None</td>\n",
       "      <td>\"福报\"是指age&gt;=35岁，也就是可以向社会输送的人才</td>\n",
       "      <td>documentation</td>\n",
       "    </tr>\n",
       "  </tbody>\n",
       "</table>\n",
       "</div>"
      ],
      "text/plain": [
       "                                         id  \\\n",
       "0  9ccf7bcd-5091-5b97-bf72-af9d41e526a5-sql   \n",
       "1  ce40ba37-b3e8-5b0a-ae6e-6e9404652319-sql   \n",
       "2  d6bea7e9-0c59-54cb-aebe-d4e39689cab9-sql   \n",
       "3  d60fb50b-2ff8-51d5-9ef5-f4e79c7ea4f0-sql   \n",
       "4  34bc30ff-3f11-5dcb-8b29-26a580fccb9b-sql   \n",
       "5  5c785b40-dfdd-582a-90e2-3e2f20113b6d-sql   \n",
       "6  3192ce10-f704-56b7-9da7-e5272bec739a-sql   \n",
       "7  7acdb5f3-93e3-52b8-a1bc-46bd2c809db6-sql   \n",
       "0  54cc1ab3-6dbb-54d1-bbd3-675304c87f9b-ddl   \n",
       "0  8fc54ebe-8bb3-5fb7-88a6-5c98d817ed07-doc   \n",
       "\n",
       "                                            question  \\\n",
       "0  What are the names of users whose age is betwe...   \n",
       "1  What are the names of users whose age is betwe...   \n",
       "2                                             小鱼儿的年龄   \n",
       "3                                            用户的平均年龄   \n",
       "4  What are the names of users whose age is betwe...   \n",
       "5                                            用户的平均年龄   \n",
       "6                              打算给一批员工送福报，把他们的名字过滤出来   \n",
       "7                                      统计一下各年龄段的用户数量   \n",
       "0                                               None   \n",
       "0                                               None   \n",
       "\n",
       "                                             content training_data_type  \n",
       "0  select name from user where age between 10 and 20                sql  \n",
       "1  select name from user where age between 10 and 50                sql  \n",
       "2             select age from users where name=\"小鱼儿\"                sql  \n",
       "3                         select avg(age) from users                sql  \n",
       "4  select name from users where age between 10 an...                sql  \n",
       "5                        SELECT AVG(age) FROM users;                sql  \n",
       "6            SELECT name FROM users WHERE age >= 35;                sql  \n",
       "7      SELECT age, COUNT(*) FROM users GROUP BY age;                sql  \n",
       "0  CREATE TABLE IF NOT EXISTS users (\\n    id INT...                ddl  \n",
       "0                       \"福报\"是指age>=35岁，也就是可以向社会输送的人才      documentation  "
      ]
     },
     "execution_count": 31,
     "metadata": {},
     "output_type": "execute_result"
    }
   ],
   "source": [
    "\n",
    "vn.remove_training_data(id='4d634f6e-a9c5-5673-ab4c-20964575fc2a-sql')\n",
    "vn.get_training_data()"
   ]
  },
  {
   "cell_type": "code",
   "execution_count": 12,
   "metadata": {},
   "outputs": [
    {
     "name": "stderr",
     "output_type": "stream",
     "text": [
      "Number of requested results 10 is greater than number of elements in index 7, updating n_results = 7\n",
      "Number of requested results 10 is greater than number of elements in index 1, updating n_results = 1\n",
      "Number of requested results 10 is greater than number of elements in index 1, updating n_results = 1\n"
     ]
    },
    {
     "name": "stdout",
     "output_type": "stream",
     "text": [
      "SQL Prompt: [{'role': 'system', 'content': 'You are a PostgreSQL expert. Please help to generate a SQL query to answer the question. Your response should ONLY be based on the given context and follow the response guidelines and format instructions. \\n===Tables \\nCREATE TABLE IF NOT EXISTS users (\\n    id INT PRIMARY KEY,\\n    name VARCHAR(100),\\n    age INT\\n);\\n\\n-- 添加表注释\\nCOMMENT ON TABLE users is\\n \\'用户信息表\\';\\n\\n-- 添加字段注释\\nCOMMENT ON COLUMN users.id IS \\'用户ID\\';\\nCOMMENT ON COLUMN users.name IS \\'姓名\\';\\nCOMMENT ON COLUMN users.age IS \\'年龄\\';\\n\\n\\n\\n\\n===Additional Context \\n\\n\"福报\"是指age>=35岁，也就是可以向社会输送的人才\\n\\n===Response Guidelines \\n1. If the provided context is sufficient, please generate a valid SQL query without any explanations for the question. \\n2. If the provided context is almost sufficient but requires knowledge of a specific string in a particular column, please generate an intermediate SQL query to find the distinct strings in that column. Prepend the query with a comment saying intermediate_sql \\n3. If the provided context is insufficient, please explain why it can\\'t be generated. \\n4. Please use the most relevant table(s). \\n5. If the question has been asked and answered before, please repeat the answer exactly as it was given before. \\n6. Ensure that the output SQL is PostgreSQL-compliant and executable, and free of syntax errors. \\n'}, {'role': 'user', 'content': '用户的平均年龄'}, {'role': 'assistant', 'content': 'SELECT AVG(age) FROM users;'}, {'role': 'user', 'content': '用户的平均年龄'}, {'role': 'assistant', 'content': 'select avg(age) from users'}, {'role': 'user', 'content': '打算给一批员工送福报，把他们的名字过滤出来'}, {'role': 'assistant', 'content': 'SELECT name FROM users WHERE age >= 35;'}, {'role': 'user', 'content': '小鱼儿的年龄'}, {'role': 'assistant', 'content': 'select age from users where name=\"小鱼儿\"'}, {'role': 'user', 'content': 'What are the names of users whose age is between 10 and 50?'}, {'role': 'assistant', 'content': 'select name from users where age between 10 and 50'}, {'role': 'user', 'content': 'What are the names of users whose age is between 10 and 50?'}, {'role': 'assistant', 'content': 'select name from user where age between 10 and 50'}, {'role': 'user', 'content': 'What are the names of users whose age is between 10 and 20?'}, {'role': 'assistant', 'content': 'select name from user where age between 10 and 20'}, {'role': 'user', 'content': '用户的平均年龄'}]\n",
      "LLM Response: SELECT AVG(age) FROM users;\n",
      "Extracted SQL: SELECT AVG(age) FROM users;\n",
      "SQL: SELECT AVG(age) FROM users;\n",
      "PROMPT: You are a PostgreSQL expert. Please help to generate a SQL query to answer the question. Your response should ONLY be based on the given context and follow the response guidelines and format instructions. \n",
      "===Tables \n",
      "CREATE TABLE IF NOT EXISTS users (\n",
      "    id INT PRIMARY KEY,\n",
      "    name VARCHAR(100),\n",
      "    age INT\n",
      ");\n",
      "\n",
      "-- 添加表注释\n",
      "COMMENT ON TABLE users is\n",
      " '用户信息表';\n",
      "\n",
      "-- 添加字段注释\n",
      "COMMENT ON COLUMN users.id IS '用户ID';\n",
      "COMMENT ON COLUMN users.name IS '姓名';\n",
      "COMMENT ON COLUMN users.age IS '年龄';\n",
      "\n",
      "\n",
      "\n",
      "\n",
      "===Additional Context \n",
      "\n",
      "\"福报\"是指age>=35岁，也就是可以向社会输送的人才\n",
      "\n",
      "===Response Guidelines \n",
      "1. If the provided context is sufficient, please generate a valid SQL query without any explanations for the question. \n",
      "2. If the provided context is almost sufficient but requires knowledge of a specific string in a particular column, please generate an intermediate SQL query to find the distinct strings in that column. Prepend the query with a comment saying intermediate_sql \n",
      "3. If the provided context is insufficient, please explain why it can't be generated. \n",
      "4. Please use the most relevant table(s). \n",
      "5. If the question has been asked and answered before, please repeat the answer exactly as it was given before. \n",
      "6. Ensure that the output SQL is PostgreSQL-compliant and executable, and free of syntax errors. \n",
      "\n",
      "ANSWER: SELECT AVG(age) FROM users;\n"
     ]
    }
   ],
   "source": [
    "result=vn.generate_sql('用户的平均年龄')\n",
    "print('SQL:',result)\n",
    "\n",
    "Q,A=DEBUG_INFO\n",
    "print('PROMPT:',Q[0]['content'])\n",
    "print('ANSWER:',A)"
   ]
  },
  {
   "cell_type": "code",
   "execution_count": 13,
   "metadata": {},
   "outputs": [],
   "source": [
    "# vn.ask('用户的平均年龄')"
   ]
  },
  {
   "cell_type": "code",
   "execution_count": 14,
   "metadata": {},
   "outputs": [
    {
     "name": "stderr",
     "output_type": "stream",
     "text": [
      "Number of requested results 10 is greater than number of elements in index 7, updating n_results = 7\n",
      "Number of requested results 10 is greater than number of elements in index 1, updating n_results = 1\n",
      "Number of requested results 10 is greater than number of elements in index 1, updating n_results = 1\n"
     ]
    },
    {
     "name": "stdout",
     "output_type": "stream",
     "text": [
      "SQL Prompt: [{'role': 'system', 'content': 'You are a PostgreSQL expert. Please help to generate a SQL query to answer the question. Your response should ONLY be based on the given context and follow the response guidelines and format instructions. \\n===Tables \\nCREATE TABLE IF NOT EXISTS users (\\n    id INT PRIMARY KEY,\\n    name VARCHAR(100),\\n    age INT\\n);\\n\\n-- 添加表注释\\nCOMMENT ON TABLE users is\\n \\'用户信息表\\';\\n\\n-- 添加字段注释\\nCOMMENT ON COLUMN users.id IS \\'用户ID\\';\\nCOMMENT ON COLUMN users.name IS \\'姓名\\';\\nCOMMENT ON COLUMN users.age IS \\'年龄\\';\\n\\n\\n\\n\\n===Additional Context \\n\\n\"福报\"是指age>=35岁，也就是可以向社会输送的人才\\n\\n===Response Guidelines \\n1. If the provided context is sufficient, please generate a valid SQL query without any explanations for the question. \\n2. If the provided context is almost sufficient but requires knowledge of a specific string in a particular column, please generate an intermediate SQL query to find the distinct strings in that column. Prepend the query with a comment saying intermediate_sql \\n3. If the provided context is insufficient, please explain why it can\\'t be generated. \\n4. Please use the most relevant table(s). \\n5. If the question has been asked and answered before, please repeat the answer exactly as it was given before. \\n6. Ensure that the output SQL is PostgreSQL-compliant and executable, and free of syntax errors. \\n'}, {'role': 'user', 'content': '打算给一批员工送福报，把他们的名字过滤出来'}, {'role': 'assistant', 'content': 'SELECT name FROM users WHERE age >= 35;'}, {'role': 'user', 'content': '用户的平均年龄'}, {'role': 'assistant', 'content': 'SELECT AVG(age) FROM users;'}, {'role': 'user', 'content': '用户的平均年龄'}, {'role': 'assistant', 'content': 'select avg(age) from users'}, {'role': 'user', 'content': '小鱼儿的年龄'}, {'role': 'assistant', 'content': 'select age from users where name=\"小鱼儿\"'}, {'role': 'user', 'content': 'What are the names of users whose age is between 10 and 50?'}, {'role': 'assistant', 'content': 'select name from users where age between 10 and 50'}, {'role': 'user', 'content': 'What are the names of users whose age is between 10 and 50?'}, {'role': 'assistant', 'content': 'select name from user where age between 10 and 50'}, {'role': 'user', 'content': 'What are the names of users whose age is between 10 and 20?'}, {'role': 'assistant', 'content': 'select name from user where age between 10 and 20'}, {'role': 'user', 'content': '打算给一批员工送福报，把他们的名字过滤出来'}]\n",
      "LLM Response: SELECT name FROM users WHERE age >= 35;\n",
      "Extracted SQL: SELECT name FROM users WHERE age >= 35;\n"
     ]
    }
   ],
   "source": [
    "result=vn.generate_sql('打算给一批员工送福报，把他们的名字过滤出来')"
   ]
  },
  {
   "cell_type": "code",
   "execution_count": 15,
   "metadata": {},
   "outputs": [
    {
     "name": "stderr",
     "output_type": "stream",
     "text": [
      "Number of requested results 10 is greater than number of elements in index 7, updating n_results = 7\n",
      "Number of requested results 10 is greater than number of elements in index 1, updating n_results = 1\n",
      "Number of requested results 10 is greater than number of elements in index 1, updating n_results = 1\n"
     ]
    },
    {
     "name": "stdout",
     "output_type": "stream",
     "text": [
      "SQL Prompt: [{'role': 'system', 'content': 'You are a PostgreSQL expert. Please help to generate a SQL query to answer the question. Your response should ONLY be based on the given context and follow the response guidelines and format instructions. \\n===Tables \\nCREATE TABLE IF NOT EXISTS users (\\n    id INT PRIMARY KEY,\\n    name VARCHAR(100),\\n    age INT\\n);\\n\\n-- 添加表注释\\nCOMMENT ON TABLE users is\\n \\'用户信息表\\';\\n\\n-- 添加字段注释\\nCOMMENT ON COLUMN users.id IS \\'用户ID\\';\\nCOMMENT ON COLUMN users.name IS \\'姓名\\';\\nCOMMENT ON COLUMN users.age IS \\'年龄\\';\\n\\n\\n\\n\\n===Additional Context \\n\\n\"福报\"是指age>=35岁，也就是可以向社会输送的人才\\n\\n===Response Guidelines \\n1. If the provided context is sufficient, please generate a valid SQL query without any explanations for the question. \\n2. If the provided context is almost sufficient but requires knowledge of a specific string in a particular column, please generate an intermediate SQL query to find the distinct strings in that column. Prepend the query with a comment saying intermediate_sql \\n3. If the provided context is insufficient, please explain why it can\\'t be generated. \\n4. Please use the most relevant table(s). \\n5. If the question has been asked and answered before, please repeat the answer exactly as it was given before. \\n6. Ensure that the output SQL is PostgreSQL-compliant and executable, and free of syntax errors. \\n'}, {'role': 'user', 'content': '打算给一批员工送福报，把他们的名字过滤出来'}, {'role': 'assistant', 'content': 'SELECT name FROM users WHERE age >= 35;'}, {'role': 'user', 'content': '用户的平均年龄'}, {'role': 'assistant', 'content': 'SELECT AVG(age) FROM users;'}, {'role': 'user', 'content': '用户的平均年龄'}, {'role': 'assistant', 'content': 'select avg(age) from users'}, {'role': 'user', 'content': '小鱼儿的年龄'}, {'role': 'assistant', 'content': 'select age from users where name=\"小鱼儿\"'}, {'role': 'user', 'content': 'What are the names of users whose age is between 10 and 50?'}, {'role': 'assistant', 'content': 'select name from users where age between 10 and 50'}, {'role': 'user', 'content': 'What are the names of users whose age is between 10 and 50?'}, {'role': 'assistant', 'content': 'select name from user where age between 10 and 50'}, {'role': 'user', 'content': 'What are the names of users whose age is between 10 and 20?'}, {'role': 'assistant', 'content': 'select name from user where age between 10 and 20'}, {'role': 'user', 'content': '打算给一批员工送福报，把他们的名字过滤出来'}]\n"
     ]
    },
    {
     "name": "stderr",
     "output_type": "stream",
     "text": [
      "Add of existing embedding ID: 3192ce10-f704-56b7-9da7-e5272bec739a-sql\n",
      "Insert of existing embedding ID: 3192ce10-f704-56b7-9da7-e5272bec739a-sql\n"
     ]
    },
    {
     "name": "stdout",
     "output_type": "stream",
     "text": [
      "LLM Response: SELECT name FROM users WHERE age >= 35;\n",
      "Extracted SQL: SELECT name FROM users WHERE age >= 35;\n",
      "SELECT name FROM users WHERE age >= 35;\n",
      "  name\n",
      "0  yhq\n"
     ]
    },
    {
     "data": {
      "text/plain": [
       "('SELECT name FROM users WHERE age >= 35;',\n",
       "   name\n",
       " 0  yhq,\n",
       " None)"
      ]
     },
     "execution_count": 15,
     "metadata": {},
     "output_type": "execute_result"
    }
   ],
   "source": [
    "vn.ask('打算给一批员工送福报，把他们的名字过滤出来',visualize=False)"
   ]
  },
  {
   "cell_type": "code",
   "execution_count": 16,
   "metadata": {},
   "outputs": [
    {
     "name": "stdout",
     "output_type": "stream",
     "text": [
      "PROMPT: You are a PostgreSQL expert. Please help to generate a SQL query to answer the question. Your response should ONLY be based on the given context and follow the response guidelines and format instructions. \n",
      "===Tables \n",
      "CREATE TABLE IF NOT EXISTS users (\n",
      "    id INT PRIMARY KEY,\n",
      "    name VARCHAR(100),\n",
      "    age INT\n",
      ");\n",
      "\n",
      "-- 添加表注释\n",
      "COMMENT ON TABLE users is\n",
      " '用户信息表';\n",
      "\n",
      "-- 添加字段注释\n",
      "COMMENT ON COLUMN users.id IS '用户ID';\n",
      "COMMENT ON COLUMN users.name IS '姓名';\n",
      "COMMENT ON COLUMN users.age IS '年龄';\n",
      "\n",
      "\n",
      "\n",
      "\n",
      "===Additional Context \n",
      "\n",
      "\"福报\"是指age>=35岁，也就是可以向社会输送的人才\n",
      "\n",
      "===Response Guidelines \n",
      "1. If the provided context is sufficient, please generate a valid SQL query without any explanations for the question. \n",
      "2. If the provided context is almost sufficient but requires knowledge of a specific string in a particular column, please generate an intermediate SQL query to find the distinct strings in that column. Prepend the query with a comment saying intermediate_sql \n",
      "3. If the provided context is insufficient, please explain why it can't be generated. \n",
      "4. Please use the most relevant table(s). \n",
      "5. If the question has been asked and answered before, please repeat the answer exactly as it was given before. \n",
      "6. Ensure that the output SQL is PostgreSQL-compliant and executable, and free of syntax errors. \n",
      "\n",
      "ANSWER: SELECT name FROM users WHERE age >= 35;\n"
     ]
    }
   ],
   "source": [
    "Q,A=DEBUG_INFO\n",
    "print('PROMPT:',Q[0]['content'])\n",
    "print('ANSWER:',A)"
   ]
  },
  {
   "cell_type": "code",
   "execution_count": 29,
   "metadata": {},
   "outputs": [
    {
     "name": "stderr",
     "output_type": "stream",
     "text": [
      "Number of requested results 10 is greater than number of elements in index 7, updating n_results = 7\n",
      "Number of requested results 10 is greater than number of elements in index 1, updating n_results = 1\n",
      "Number of requested results 10 is greater than number of elements in index 1, updating n_results = 1\n"
     ]
    },
    {
     "name": "stdout",
     "output_type": "stream",
     "text": [
      "SQL Prompt: [{'role': 'system', 'content': 'You are a PostgreSQL expert. Please help to generate a SQL query to answer the question. Your response should ONLY be based on the given context and follow the response guidelines and format instructions. \\n===Tables \\nCREATE TABLE IF NOT EXISTS users (\\n    id INT PRIMARY KEY,\\n    name VARCHAR(100),\\n    age INT\\n);\\n\\n-- 添加表注释\\nCOMMENT ON TABLE users is\\n \\'用户信息表\\';\\n\\n-- 添加字段注释\\nCOMMENT ON COLUMN users.id IS \\'用户ID\\';\\nCOMMENT ON COLUMN users.name IS \\'姓名\\';\\nCOMMENT ON COLUMN users.age IS \\'年龄\\';\\n\\n\\n\\n\\n===Additional Context \\n\\n\"福报\"是指age>=35岁，也就是可以向社会输送的人才\\n\\n===Response Guidelines \\n1. If the provided context is sufficient, please generate a valid SQL query without any explanations for the question. \\n2. If the provided context is almost sufficient but requires knowledge of a specific string in a particular column, please generate an intermediate SQL query to find the distinct strings in that column. Prepend the query with a comment saying intermediate_sql \\n3. If the provided context is insufficient, please explain why it can\\'t be generated. \\n4. Please use the most relevant table(s). \\n5. If the question has been asked and answered before, please repeat the answer exactly as it was given before. \\n6. Ensure that the output SQL is PostgreSQL-compliant and executable, and free of syntax errors. \\n'}, {'role': 'user', 'content': '用户的平均年龄'}, {'role': 'assistant', 'content': 'select avg(age) from users'}, {'role': 'user', 'content': '用户的平均年龄'}, {'role': 'assistant', 'content': 'SELECT AVG(age) FROM users;'}, {'role': 'user', 'content': '打算给一批员工送福报，把他们的名字过滤出来'}, {'role': 'assistant', 'content': 'SELECT name FROM users WHERE age >= 35;'}, {'role': 'user', 'content': '小鱼儿的年龄'}, {'role': 'assistant', 'content': 'select age from users where name=\"小鱼儿\"'}, {'role': 'user', 'content': 'What are the names of users whose age is between 10 and 50?'}, {'role': 'assistant', 'content': 'select name from users where age between 10 and 50'}, {'role': 'user', 'content': 'What are the names of users whose age is between 10 and 50?'}, {'role': 'assistant', 'content': 'select name from user where age between 10 and 50'}, {'role': 'user', 'content': 'What are the names of users whose age is between 10 and 20?'}, {'role': 'assistant', 'content': 'select name from user where age between 10 and 20'}, {'role': 'user', 'content': '统计一下各年龄段的用户数量,年龄段是指0-10,10-20,20-30,30-40,40-50,50-60,60-70,70-80...左闭右开区间'}]\n",
      "LLM Response: SELECT CASE \n",
      "         WHEN age BETWEEN 0 AND 10 THEN '[0-10)'\n",
      "         WHEN age BETWEEN 11 AND 20 THEN '[11-20)'\n",
      "         WHEN age BETWEEN 21 AND 30 THEN '[21-30)'\n",
      "         WHEN age BETWEEN 31 AND 40 THEN '[31-40)'\n",
      "         WHEN age BETWEEN 41 AND 50 THEN '[41-50)'\n",
      "         WHEN age BETWEEN 51 AND 60 THEN '[51-60)'\n",
      "         WHEN age BETWEEN 61 AND 70 THEN '[61-70)'\n",
      "         WHEN age BETWEEN 71 AND 80 THEN '[71-80)'\n",
      "         ELSE 'Others'\n",
      "       END AS age_group, COUNT(*) \n",
      "FROM users \n",
      "GROUP BY age_group;\n",
      "Extracted SQL: SELECT CASE \n",
      "         WHEN age BETWEEN 0 AND 10 THEN '[0-10)'\n",
      "         WHEN age BETWEEN 11 AND 20 THEN '[11-20)'\n",
      "         WHEN age BETWEEN 21 AND 30 THEN '[21-30)'\n",
      "         WHEN age BETWEEN 31 AND 40 THEN '[31-40)'\n",
      "         WHEN age BETWEEN 41 AND 50 THEN '[41-50)'\n",
      "         WHEN age BETWEEN 51 AND 60 THEN '[51-60)'\n",
      "         WHEN age BETWEEN 61 AND 70 THEN '[61-70)'\n",
      "         WHEN age BETWEEN 71 AND 80 THEN '[71-80)'\n",
      "         ELSE 'Others'\n",
      "       END AS age_group, COUNT(*) \n",
      "FROM users \n",
      "GROUP BY age_group;\n"
     ]
    },
    {
     "data": {
      "text/plain": [
       "\"SELECT CASE \\n         WHEN age BETWEEN 0 AND 10 THEN '[0-10)'\\n         WHEN age BETWEEN 11 AND 20 THEN '[11-20)'\\n         WHEN age BETWEEN 21 AND 30 THEN '[21-30)'\\n         WHEN age BETWEEN 31 AND 40 THEN '[31-40)'\\n         WHEN age BETWEEN 41 AND 50 THEN '[41-50)'\\n         WHEN age BETWEEN 51 AND 60 THEN '[51-60)'\\n         WHEN age BETWEEN 61 AND 70 THEN '[61-70)'\\n         WHEN age BETWEEN 71 AND 80 THEN '[71-80)'\\n         ELSE 'Others'\\n       END AS age_group, COUNT(*) \\nFROM users \\nGROUP BY age_group;\""
      ]
     },
     "execution_count": 29,
     "metadata": {},
     "output_type": "execute_result"
    }
   ],
   "source": [
    "vn.generate_sql('统计一下各年龄段的用户数量,年龄段是指0-10,10-20,20-30,30-40,40-50,50-60,60-70,70-80...左闭右开区间')"
   ]
  },
  {
   "cell_type": "code",
   "execution_count": 34,
   "metadata": {},
   "outputs": [
    {
     "name": "stderr",
     "output_type": "stream",
     "text": [
      "Number of requested results 10 is greater than number of elements in index 9, updating n_results = 9\n",
      "Number of requested results 10 is greater than number of elements in index 1, updating n_results = 1\n",
      "Number of requested results 10 is greater than number of elements in index 1, updating n_results = 1\n"
     ]
    },
    {
     "name": "stdout",
     "output_type": "stream",
     "text": [
      "SQL Prompt: [{'role': 'system', 'content': 'You are a PostgreSQL expert. Please help to generate a SQL query to answer the question. Your response should ONLY be based on the given context and follow the response guidelines and format instructions. \\n===Tables \\nCREATE TABLE IF NOT EXISTS users (\\n    id INT PRIMARY KEY,\\n    name VARCHAR(100),\\n    age INT\\n);\\n\\n-- 添加表注释\\nCOMMENT ON TABLE users is\\n \\'用户信息表\\';\\n\\n-- 添加字段注释\\nCOMMENT ON COLUMN users.id IS \\'用户ID\\';\\nCOMMENT ON COLUMN users.name IS \\'姓名\\';\\nCOMMENT ON COLUMN users.age IS \\'年龄\\';\\n\\n\\n\\n\\n===Additional Context \\n\\n\"福报\"是指age>=35岁，也就是可以向社会输送的人才\\n\\n===Response Guidelines \\n1. If the provided context is sufficient, please generate a valid SQL query without any explanations for the question. \\n2. If the provided context is almost sufficient but requires knowledge of a specific string in a particular column, please generate an intermediate SQL query to find the distinct strings in that column. Prepend the query with a comment saying intermediate_sql \\n3. If the provided context is insufficient, please explain why it can\\'t be generated. \\n4. Please use the most relevant table(s). \\n5. If the question has been asked and answered before, please repeat the answer exactly as it was given before. \\n6. Ensure that the output SQL is PostgreSQL-compliant and executable, and free of syntax errors. \\n'}, {'role': 'user', 'content': '统计一下各年龄段的用户数量不需要输出名字只需要数量就这可以注意是各年龄段'}, {'role': 'assistant', 'content': 'SELECT age, COUNT(*) FROM users GROUP BY age;'}, {'role': 'user', 'content': '统计一下各年龄段的用户数量'}, {'role': 'assistant', 'content': 'SELECT age, COUNT(*) FROM users GROUP BY age;'}, {'role': 'user', 'content': '打算给一批员工送福报，把他们的名字过滤出来'}, {'role': 'assistant', 'content': 'SELECT name FROM users WHERE age >= 35;'}, {'role': 'user', 'content': '用户的平均年龄'}, {'role': 'assistant', 'content': 'SELECT AVG(age) FROM users;'}, {'role': 'user', 'content': '用户的平均年龄'}, {'role': 'assistant', 'content': 'select avg(age) from users'}, {'role': 'user', 'content': '小鱼儿的年龄'}, {'role': 'assistant', 'content': 'select age from users where name=\"小鱼儿\"'}, {'role': 'user', 'content': 'What are the names of users whose age is between 10 and 50?'}, {'role': 'assistant', 'content': 'select name from users where age between 10 and 50'}, {'role': 'user', 'content': 'What are the names of users whose age is between 10 and 20?'}, {'role': 'assistant', 'content': 'select name from user where age between 10 and 20'}, {'role': 'user', 'content': 'What are the names of users whose age is between 10 and 50?'}, {'role': 'assistant', 'content': 'select name from user where age between 10 and 50'}, {'role': 'user', 'content': '统计一下各年龄段的用户数量'}]\n"
     ]
    },
    {
     "name": "stderr",
     "output_type": "stream",
     "text": [
      "Add of existing embedding ID: 7acdb5f3-93e3-52b8-a1bc-46bd2c809db6-sql\n",
      "Insert of existing embedding ID: 7acdb5f3-93e3-52b8-a1bc-46bd2c809db6-sql\n"
     ]
    },
    {
     "name": "stdout",
     "output_type": "stream",
     "text": [
      "LLM Response: SELECT age, COUNT(*) FROM users GROUP BY age;\n",
      "Extracted SQL: SELECT age, COUNT(*) FROM users GROUP BY age;\n",
      "SELECT age, COUNT(*) FROM users GROUP BY age;\n",
      "   age  count\n",
      "0   40      1\n",
      "1   15      1\n",
      "2   18      1\n"
     ]
    },
    {
     "data": {
      "text/plain": [
       "('SELECT age, COUNT(*) FROM users GROUP BY age;',\n",
       "    age  count\n",
       " 0   40      1\n",
       " 1   15      1\n",
       " 2   18      1,\n",
       " None)"
      ]
     },
     "execution_count": 34,
     "metadata": {},
     "output_type": "execute_result"
    }
   ],
   "source": [
    "vn.ask('统计一下各年龄段的用户数量',visualize=False)"
   ]
  }
 ],
 "metadata": {
  "kernelspec": {
   "display_name": "base",
   "language": "python",
   "name": "python3"
  },
  "language_info": {
   "codemirror_mode": {
    "name": "ipython",
    "version": 3
   },
   "file_extension": ".py",
   "mimetype": "text/x-python",
   "name": "python",
   "nbconvert_exporter": "python",
   "pygments_lexer": "ipython3",
   "version": "3.11.5"
  }
 },
 "nbformat": 4,
 "nbformat_minor": 2
}
