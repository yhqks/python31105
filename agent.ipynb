{
 "cells": [
  {
   "cell_type": "code",
   "execution_count": 1,
   "metadata": {},
   "outputs": [],
   "source": [
    "from json import load\n",
    "from tabnanny import verbose\n",
    "from langchain_openai import ChatOpenAI\n",
    "from crewai import  Agent,Task,Crew,Process,LLM\n",
    "from langchain_community.utilities import SerpAPIWrapper\n",
    "from langchain_community.agent_toolkits.load_tools import load_tools\n",
    "from openai import  OpenAI\n",
    "from dotenv import load_dotenv\n",
    "import os\n",
    "# serpapi=os.getenv('serpapi')\n",
    "# print(serpapi)\n",
    "# load_dotenv()\n",
    "# API_KEY=os.getenv(\"DASHSCOPE_API_KEY\")\n",
    "# llm = ChatOpenAI(model='qwen-72b-chat', api_key=API_KEY, base_url='https://dashscope.aliyuncs.com/compatible-mode/v1')\n",
    "\n",
    "# tools = load_tools(['serpapi','llm-math'],llm=llm,serpapi_api_key=serpapi)\n",
    "# memory=ConversationBufferMemory(\n",
    "#     memory_key='chat_history',\n",
    "#     return_messages=True,\n",
    "# )\n",
    "# agent=initialize_agent(\n",
    "#     tools,\n",
    "#     llm,\n",
    "#     agent=AgentType.CONVERSATIONAL_REACT_DESCRIPTION,\n",
    "#     verbose=True,\n",
    "#     memory=memory\n",
    "# )\n",
    "\n",
    "# print(agent.run(\"在纽约一百人民币能买多少支玫瑰\"))"
   ]
  },
  {
   "cell_type": "code",
   "execution_count": null,
   "metadata": {},
   "outputs": [
    {
     "name": "stdout",
     "output_type": "stream",
     "text": [
      "\u001b[1m\u001b[95m# Agent:\u001b[00m \u001b[1m\u001b[92m数据分析师\u001b[00m\n",
      "\u001b[95m## Task:\u001b[00m \u001b[92m分析数据并提供洞察\u001b[00m\n",
      "\n",
      "\n",
      "\u001b[1m\u001b[95m# Agent:\u001b[00m \u001b[1m\u001b[92m数据分析师\u001b[00m\n",
      "\u001b[95m## Final Answer:\u001b[00m \u001b[92m\n",
      "**\n",
      "\n",
      "分析结果显示，该数据集显示出明显的上升趋势，在过去几个月中，特定变量如销量呈现显著增长。这可能与市场对产品的认可度增加有关。同时，用户可能在某个特定时间段内的需求持续增加，影响他们的业务决策。此外，统计分析显示销售额波动较大，可能需要进一步关注库存管理和促销策略以应对这些变化。\n",
      "\n",
      "### Final Answer\n",
      "该数据集显示出显著的上升趋势和波动模式。具体来说：\n",
      "\n",
      "- **时间序列：** 销售量呈现明显的增长趋势。\n",
      "- **变量关系：** 某个关键指标如销量随时间递增，可能受到市场认可度或促销活动的影响。\n",
      "- **异常值检查：** 已确认数据的个别点是正常的，不会影响整体分析。\n",
      "\n",
      "建议用户关注该趋势并采取相应措施，以优化资源分配和业务策略。\u001b[00m\n",
      "\n",
      "\n",
      "**\n",
      "\n",
      "分析结果显示，该数据集显示出明显的上升趋势，在过去几个月中，特定变量如销量呈现显著增长。这可能与市场对产品的认可度增加有关。同时，用户可能在某个特定时间段内的需求持续增加，影响他们的业务决策。此外，统计分析显示销售额波动较大，可能需要进一步关注库存管理和促销策略以应对这些变化。\n",
      "\n",
      "### Final Answer\n",
      "该数据集显示出显著的上升趋势和波动模式。具体来说：\n",
      "\n",
      "- **时间序列：** 销售量呈现明显的增长趋势。\n",
      "- **变量关系：** 某个关键指标如销量随时间递增，可能受到市场认可度或促销活动的影响。\n",
      "- **异常值检查：** 已确认数据的个别点是正常的，不会影响整体分析。\n",
      "\n",
      "建议用户关注该趋势并采取相应措施，以优化资源分配和业务策略。\n"
     ]
    }
   ],
   "source": [
    "\n",
    "llm = LLM(\n",
    "    base_url=\"http://127.0.0.1:11434\",\n",
    "    api_key=\"ollama\",  \n",
    "    model='ollama/deepseek-r1:1.5b'\n",
    ")\n",
    "agent = Agent(\n",
    "    role=\"数据分析师\",  # 角色\n",
    "    goal=\"分析数据并提供洞察\",  # 目标\n",
    "    backstory=\"你是一名经验丰富的数据分析师，擅长从数据中发现趋势和模式。\",  # 背景故事\n",
    "    tools=[],  # 可选工具列表\n",
    "    verbose=True,  # 是否输出详细信息\n",
    "    llm=llm,  # LLM模型\n",
    ")\n",
    "task=Task(\n",
    "    description=\"分析数据并提供洞察\",  # 任务描述\n",
    "    agent=agent,  # 任务执行者\n",
    "    expected_output=\"一份详细的数据分析报告，包含趋势、模式和洞察。\",\n",
    ")\n",
    "test=Crew(\n",
    "    agents=[agent],  # 列表\n",
    "    tasks=[task],  # 任务列表\n",
    "    process=Process.sequential,  # 任务处理方式\n",
    ")\n",
    "res=test.kickoff()\n",
    "print(res)"
   ]
  }
 ],
 "metadata": {
  "kernelspec": {
   "display_name": "base",
   "language": "python",
   "name": "python3"
  },
  "language_info": {
   "codemirror_mode": {
    "name": "ipython",
    "version": 3
   },
   "file_extension": ".py",
   "mimetype": "text/x-python",
   "name": "python",
   "nbconvert_exporter": "python",
   "pygments_lexer": "ipython3",
   "version": "3.11.5"
  }
 },
 "nbformat": 4,
 "nbformat_minor": 2
}
