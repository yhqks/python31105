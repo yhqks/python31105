{
 "cells": [
  {
   "cell_type": "code",
   "execution_count": null,
   "metadata": {},
   "outputs": [],
   "source": [
    "from json import load\n",
    "from tabnanny import verbose\n",
    "from langchain_openai import ChatOpenAI\n",
    "\n",
    "from langchain.agents import AgentType\n",
    "from langchain_community.utilities import SerpAPIWrapper\n",
    "from langchain_community.agent_toolkits.load_tools import load_tools\n",
    "\n",
    "from langchain.memory import ConversationBufferMemory\n",
    "from dotenv import load_dotenv\n",
    "import os\n",
    "serpapi=os.getenv('serpapi')\n",
    "print(serpapi)\n",
    "load_dotenv()\n",
    "API_KEY=os.getenv(\"DASHSCOPE_API_KEY\")\n",
    "llm = ChatOpenAI(model='qwen-72b-chat', api_key=API_KEY, base_url='https://dashscope.aliyuncs.com/compatible-mode/v1')\n",
    "\n",
    "tools = load_tools(['serpapi','llm-math'],llm=llm,serpapi_api_key=serpapi)\n",
    "memory=ConversationBufferMemory(\n",
    "    memory_key='chat_history',\n",
    "    return_messages=True,\n",
    ")\n",
    "agent=initialize_agent(\n",
    "    tools,\n",
    "    llm,\n",
    "    agent=AgentType.CONVERSATIONAL_REACT_DESCRIPTION,\n",
    "    verbose=True,\n",
    "    memory=memory\n",
    ")\n",
    "\n",
    "print(agent.run(\"在纽约一百人民币能买多少支玫瑰\"))"
   ]
  },
  {
   "cell_type": "code",
   "execution_count": null,
   "metadata": {},
   "outputs": [],
   "source": [
    "from langchain.agents import initialize_agent,AgentExecutor,create_self_ask_with_search_agent"
   ]
  }
 ],
 "metadata": {
  "kernelspec": {
   "display_name": "base",
   "language": "python",
   "name": "python3"
  },
  "language_info": {
   "name": "python",
   "version": "3.11.5"
  }
 },
 "nbformat": 4,
 "nbformat_minor": 2
}
